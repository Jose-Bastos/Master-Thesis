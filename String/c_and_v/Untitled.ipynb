{
 "cells": [
  {
   "cell_type": "code",
   "execution_count": 1,
   "id": "6ae47d3e-022d-4bcb-b384-4f226f93b87a",
   "metadata": {},
   "outputs": [],
   "source": [
    "import numpy as np\n",
    "import matplotlib.pyplot as plt\n",
    "plt.rcParams.update({'font.size': 22})\n",
    "import os\n",
    "os.chdir(\"/notebooks\")\n",
    "%load_ext autoreload\n",
    "%autoreload 2"
   ]
  },
  {
   "cell_type": "code",
   "execution_count": 53,
   "id": "6b0cc3c3-628e-48eb-a215-063700bc38d0",
   "metadata": {},
   "outputs": [
    {
     "data": {
      "image/png": "[encoded data removed]",
      "text/plain": [
       "<Figure size 1440x720 with 2 Axes>"
      ]
     },
     "metadata": {
      "needs_background": "light"
     },
     "output_type": "display_data"
    }
   ],
   "source": [
    "import matplotlib.pyplot as plt\n",
    "from mpl_toolkits.axes_grid1 import make_axes_locatable\n",
    "\n",
    "#print(final_array.shape)\n",
    "#for i in range(final_array.shape[0]):\n",
    "#    for j in range((final_array.shape[1])):\n",
    "#        print(\"c is\", cs[i])\n",
    "#        print(\"v is\",vs[j])\n",
    "#        print(\"final_array is\",final_array[i,j])\n",
    "#        print()\n",
    "        \n",
    "plt.figure(figsize=(20,10))\n",
    "c = plt.imshow(final_array,cmap=\"coolwarm\",origin=\"lower\",extent=[vs[0],vs[-1],cs[0],cs[-1]])\n",
    "plt.ylabel(\"Wave speed(c)\")\n",
    "plt.xlabel(\"Horizontal Speed (v)\")\n",
    "plt.xticks(vs)\n",
    "plt.tick_params(axis='x', rotation=45)\n",
    "divider = make_axes_locatable(ax)\n",
    "cax = divider.append_axes(\"right\", size=\"5%\", pad=0.05)\n",
    "\n",
    "\n",
    "plt.colorbar(c,label=\"Error\")\n",
    "\n",
    "plt.show()"
   ]
  },
  {
   "cell_type": "code",
   "execution_count": 38,
   "id": "f3d72c7d-e0bf-41d1-a329-a4502d7b5cd9",
   "metadata": {},
   "outputs": [
    {
     "name": "stdout",
     "output_type": "stream",
     "text": [
      "(7, 5)\n"
     ]
    }
   ],
   "source": [
    "cs = [0.5,1,1.5,2,2.5,3,3.5]\n",
    "vs = [0.1,0.25,0.5,0.75,1]\n",
    "\n",
    "final_array = np.empty((len(cs),len(vs)))\n",
    "print(final_array.shape)\n",
    "\n",
    "\n",
    "coef_05_01 = np.array([2.6,55.6])\n",
    "coef_05_25 = np.array([22.3,52.7])\n",
    "coef_05_50 = np.array([100,52.6])\n",
    "coef_05_75 = np.array([130.2,58.8])\n",
    "coef_05_100 = np.array([130,59])\n",
    "\n",
    "final_array[0,0]= np.mean(coef_05_01)\n",
    "final_array[0,1]= np.mean(coef_05_25)\n",
    "final_array[0,2]= np.mean(coef_05_50)\n",
    "final_array[0,3]= np.mean(coef_05_75)\n",
    "final_array[0,4]= np.mean(coef_05_100)\n",
    "\n",
    "\n",
    "coef_1_01 = np.array([0.9,1.2])\n",
    "coef_1_25 = np.array([1.5,2.9])\n",
    "coef_1_50 = np.array([3.6,4.9])\n",
    "coef_1_75 = np.array([8.8,11.2])\n",
    "coef_1_100 = np.array([100,101])\n",
    "\n",
    "final_array[1,0]= np.mean(coef_1_01)\n",
    "final_array[1,1]= np.mean(coef_1_25)\n",
    "final_array[1,2]= np.mean(coef_1_50)\n",
    "final_array[1,3]= np.mean(coef_1_75)\n",
    "final_array[1,4]= np.mean(coef_1_100)\n",
    "\n",
    "\n",
    "coef_15_01 = np.array([4.9,52.2])\n",
    "coef_15_25 = np.array([5.3,46.1])\n",
    "coef_15_50 = np.array([19.5,41.4,])\n",
    "coef_15_75 = np.array([53.3,14.4])\n",
    "coef_15_100 = np.array([100,97.2])\n",
    "\n",
    "final_array[2,0]= np.mean(coef_15_01)\n",
    "final_array[2,1]= np.mean(coef_15_25)\n",
    "final_array[2,2]= np.mean(coef_15_50)\n",
    "final_array[2,3]= np.mean(coef_15_75)\n",
    "final_array[2,4]= np.mean(coef_15_100)\n",
    "\n",
    "coef_2_01 = np.array([5.6,86.6,8.2,85.1,4.0,91.6])\n",
    "coef_2_25 = np.array([7.9,98.2,5.9,98.4,8.5,91.9,7.7,91.0])\n",
    "coef_2_50 = np.array([22.3,96.6,26.5,78.4,24.8,85.1])\n",
    "coef_2_75 = np.array([54.6,75.0])\n",
    "coef_2_100 = np.array([54.6,75.0])\n",
    "\n",
    "final_array[3,0]= np.mean(coef_2_01)\n",
    "final_array[3,1]= np.mean(coef_2_25)\n",
    "final_array[3,2]= np.mean(coef_2_50)\n",
    "final_array[3,3]= np.mean(coef_2_75)\n",
    "final_array[3,4]= np.mean(coef_2_100)\n",
    "\n",
    "\n",
    "\n",
    "coef_25_01 = np.array([4.5,137])\n",
    "coef_25_25 = np.array([18,99.6])\n",
    "coef_25_50 = np.array([30.0,112,27,131])\n",
    "coef_25_75 = np.array([56,122])\n",
    "coef_25_100 = np.array([61,100,100,93])\n",
    "\n",
    "final_array[4,0]= np.mean(coef_25_01)\n",
    "final_array[4,1]= np.mean(coef_25_25)\n",
    "final_array[4,2]= np.mean(coef_25_50)\n",
    "final_array[4,3]= np.mean(coef_25_75)\n",
    "final_array[4,4]= np.mean(coef_25_100)\n",
    "\n",
    "\n",
    "coef_3_01 = np.array([18,138,8,152])\n",
    "coef_3_25 = np.array([9.5,186,20,133])\n",
    "coef_3_50 = np.array([30,163,28,174])\n",
    "coef_3_75 = np.array([58,166,61,145])\n",
    "coef_3_100 = np.array([100,96,100,100])\n",
    "\n",
    "final_array[5,0]= np.mean(coef_3_01)\n",
    "final_array[5,1]= np.mean(coef_3_25)\n",
    "final_array[5,2]= np.mean(coef_3_50)\n",
    "final_array[5,3]= np.mean(coef_3_75)\n",
    "final_array[5,4]= np.mean(coef_3_100)\n",
    "\n",
    "\n",
    "coef_35_01 = np.array([95,168,24,174])\n",
    "coef_35_25 = np.array([71,77])\n",
    "coef_35_50 = np.array([71,77])\n",
    "coef_35_75 = np.array([62,185,65,155])\n",
    "coef_35_100 = np.array([100,101,100,100])\n",
    "\n",
    "final_array[6,0]= np.mean(coef_35_01)\n",
    "final_array[6,1]= np.mean(coef_35_25)\n",
    "final_array[6,2]= np.mean(coef_35_50)\n",
    "final_array[6,3]= np.mean(coef_35_75)\n",
    "final_array[6,4]= np.mean(coef_35_100)\n"
   ]
  },
  {
   "cell_type": "code",
   "execution_count": 70,
   "id": "a4f3c2bb-79ed-4c87-8817-98b0bc69186d",
   "metadata": {},
   "outputs": [
    {
     "name": "stdout",
     "output_type": "stream",
     "text": [
      "[0.25 0.5  0.75 1.   1.25 1.5  1.75 2.  ]\n",
      "[0.01, 0.1, 0.25, 0.5, 0.75, 1, 1.5, 2]\n"
     ]
    }
   ],
   "source": []
  },
  {
   "cell_type": "code",
   "execution_count": 1,
   "id": "16462012-13e7-4a93-b338-91356c6289c4",
   "metadata": {},
   "outputs": [
    {
     "data": {
      "text/plain": [
       "0.02"
      ]
     },
     "execution_count": 1,
     "metadata": {},
     "output_type": "execute_result"
    }
   ],
   "source": [
    "0.01*2"
   ]
  },
  {
   "cell_type": "code",
   "execution_count": 3,
   "id": "7077f80e-e27d-4bd7-88be-9cd8483bc1fe",
   "metadata": {},
   "outputs": [
    {
     "data": {
      "text/plain": [
       "23.0"
      ]
     },
     "execution_count": 3,
     "metadata": {},
     "output_type": "execute_result"
    }
   ],
   "source": [
    "(0.0246-0.02)/0.02*100"
   ]
  },
  {
   "cell_type": "code",
   "execution_count": null,
   "id": "ebcf4973-8226-429b-9264-ec08d8549655",
   "metadata": {},
   "outputs": [],
   "source": []
  }
 ],
 "metadata": {
  "kernelspec": {
   "display_name": "Python 3 (ipykernel)",
   "language": "python",
   "name": "python3"
  },
  "language_info": {
   "codemirror_mode": {
    "name": "ipython",
    "version": 3
   },
   "file_extension": ".py",
   "mimetype": "text/x-python",
   "name": "python",
   "nbconvert_exporter": "python",
   "pygments_lexer": "ipython3",
   "version": "3.8.12"
  }
 },
 "nbformat": 4,
 "nbformat_minor": 5
}
