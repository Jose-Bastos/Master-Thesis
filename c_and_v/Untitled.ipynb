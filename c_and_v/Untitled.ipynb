{
 "cells": [
  {
   "cell_type": "code",
   "execution_count": 1,
   "id": "6ae47d3e-022d-4bcb-b384-4f226f93b87a",
   "metadata": {},
   "outputs": [],
   "source": [
    "import numpy as np\n",
    "import matplotlib.pyplot as plt\n",
    "plt.rcParams.update({'font.size': 22})\n",
    "import os\n",
    "os.chdir(\"/notebooks\")\n",
    "%load_ext autoreload\n",
    "%autoreload 2"
   ]
  },
  {
   "cell_type": "code",
   "execution_count": null,
   "id": "f3d72c7d-e0bf-41d1-a329-a4502d7b5cd9",
   "metadata": {},
   "outputs": [],
   "source": [
    "cs = [0.5,1,1.5,2,2.5,3,3.5]\n",
    "vs = [0.1,0.25,0.5,0.75,1]\n",
    "\n",
    "coef_05_01 = np.array([2.6,55.6])\n",
    "coef_05_25 = np.array([22.3,52.7])\n",
    "coef_05_50 = np.array([100,52.6])\n",
    "coef_05_75 = np.array([130.2,58.8])\n",
    "coef_05_100 = np.array([])\n",
    "\n",
    "coef_1_01 = np.array([0.9,1.2])\n",
    "coef_1_25 = np.array([1.5,2.9])\n",
    "coef_1_50 = np.array([3.6,4.9])\n",
    "coef_1_75 = np.array([8.8,11.2])\n",
    "coef_1_100 = np.array([100,101])\n",
    "\n",
    "coef_15_01 = np.array([4.9,52.2])\n",
    "coef_15_25 = np.array([5.3,46.1])\n",
    "coef_15_50 = np.array([19.5,41.4,])\n",
    "coef_15_75 = np.array([53.3,14.4])\n",
    "coef_15_100 = np.array([100,97.2])\n",
    "\n",
    "coef_2_01 = np.array([5.6,86.6,8.2,85.1,4.0,91.6])\n",
    "coef_2_25 = np.array([7.9,98.2,5.9,98.4,8.5,91.9,,7.7,91.0])\n",
    "coef_2_50 = np.array([22.3,96.6,26.5,78.4,,24.8,85.1])\n",
    "coef_2_75 = np.array([54.6,75.0])\n",
    "coef_2_100 = np.array([])\n",
    "\n",
    "coef_25_01 = np.array([])\n",
    "coef_25_25 = np.array([])\n",
    "coef_25_50 = np.array([])\n",
    "coef_25_75 = np.array([])\n",
    "coef_25_100 = np.array([])\n",
    "\n",
    "coef_3_01 = np.array([])\n",
    "coef_3_25 = np.array([])\n",
    "coef_3_50 = np.array([])\n",
    "coef_3_75 = np.array([])\n",
    "coef_3_100 = np.array([])\n",
    "\n",
    "coef_35_01 = np.array([95.207374572\t168.201797485,24.478559494\t174.251480102])\n",
    "coef_35_25 = np.array([70.902008056\t76.566665649])\n",
    "coef_35_50 = np.array([])\n",
    "coef_35_75 = np.array([\t61.891639709\t185.495269775,65.32698059\t155.884536743])\n",
    "coef_35_100 = np.array([99.999046325\t100.936782836,99.999305725\t99.787231445])\n"
   ]
  }
 ],
 "metadata": {
  "kernelspec": {
   "display_name": "Python 3 (ipykernel)",
   "language": "python",
   "name": "python3"
  },
  "language_info": {
   "codemirror_mode": {
    "name": "ipython",
    "version": 3
   },
   "file_extension": ".py",
   "mimetype": "text/x-python",
   "name": "python",
   "nbconvert_exporter": "python",
   "pygments_lexer": "ipython3",
   "version": "3.8.12"
  }
 },
 "nbformat": 4,
 "nbformat_minor": 5
}
