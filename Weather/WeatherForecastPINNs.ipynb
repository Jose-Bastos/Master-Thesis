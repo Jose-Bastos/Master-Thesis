{
 "cells": [
  {
   "cell_type": "markdown",
   "id": "b62a5038",
   "metadata": {
    "toc": true
   },
   "source": [
    "<h1>Table of Contents<span class=\"tocSkip\"></span></h1>\n",
    "<div class=\"toc\"><ul class=\"toc-item\"><li><span><a href=\"#Introduction\" data-toc-modified-id=\"Introduction-1\"><span class=\"toc-item-num\">1&nbsp;&nbsp;</span>Introduction</a></span></li><li><span><a href=\"#Import-Packages\" data-toc-modified-id=\"Import-Packages-2\"><span class=\"toc-item-num\">2&nbsp;&nbsp;</span>Import Packages</a></span></li><li><span><a href=\"#Case-1---Temperature-vs-Time\" data-toc-modified-id=\"Case-1---Temperature-vs-Time-3\"><span class=\"toc-item-num\">3&nbsp;&nbsp;</span>Case 1 - Temperature vs Time</a></span><ul class=\"toc-item\"><li><span><a href=\"#Data-Pre-processing\" data-toc-modified-id=\"Data-Pre-processing-3.1\"><span class=\"toc-item-num\">3.1&nbsp;&nbsp;</span>Data Pre-processing</a></span></li><li><span><a href=\"#Custom-Model\" data-toc-modified-id=\"Custom-Model-3.2\"><span class=\"toc-item-num\">3.2&nbsp;&nbsp;</span>Custom Model</a></span></li><li><span><a href=\"#Setup-a-custom-library\" data-toc-modified-id=\"Setup-a-custom-library-3.3\"><span class=\"toc-item-num\">3.3&nbsp;&nbsp;</span>Setup a custom library</a></span></li><li><span><a href=\"#Configuration-of-DeepMoD\" data-toc-modified-id=\"Configuration-of-DeepMoD-3.4\"><span class=\"toc-item-num\">3.4&nbsp;&nbsp;</span>Configuration of DeepMoD</a></span></li><li><span><a href=\"#Run-DeepMoD\" data-toc-modified-id=\"Run-DeepMoD-3.5\"><span class=\"toc-item-num\">3.5&nbsp;&nbsp;</span>Run DeepMoD</a></span></li><li><span><a href=\"#Plot\" data-toc-modified-id=\"Plot-3.6\"><span class=\"toc-item-num\">3.6&nbsp;&nbsp;</span>Plot</a></span></li></ul></li><li><span><a href=\"#Case-2---Temperature-vs-Time-and-x-,-y-location\" data-toc-modified-id=\"Case-2---Temperature-vs-Time-and-x-,-y-location-4\"><span class=\"toc-item-num\">4&nbsp;&nbsp;</span>Case 2 - Temperature vs Time and x-, y-location</a></span><ul class=\"toc-item\"><li><span><a href=\"#Data-Pre-processing\" data-toc-modified-id=\"Data-Pre-processing-4.1\"><span class=\"toc-item-num\">4.1&nbsp;&nbsp;</span>Data Pre-processing</a></span></li><li><span><a href=\"#Configuration-of-DeepMoD\" data-toc-modified-id=\"Configuration-of-DeepMoD-4.2\"><span class=\"toc-item-num\">4.2&nbsp;&nbsp;</span>Configuration of DeepMoD</a></span></li><li><span><a href=\"#Run-DeepMoD\" data-toc-modified-id=\"Run-DeepMoD-4.3\"><span class=\"toc-item-num\">4.3&nbsp;&nbsp;</span>Run DeepMoD</a></span></li><li><span><a href=\"#Plot\" data-toc-modified-id=\"Plot-4.4\"><span class=\"toc-item-num\">4.4&nbsp;&nbsp;</span>Plot</a></span><ul class=\"toc-item\"><li><span><a href=\"#1D-Plot-(T-vs-time)\" data-toc-modified-id=\"1D-Plot-(T-vs-time)-4.4.1\"><span class=\"toc-item-num\">4.4.1&nbsp;&nbsp;</span>1D Plot (T vs time)</a></span></li><li><span><a href=\"#2D-Plot-(Grid-data-at-one-time)\" data-toc-modified-id=\"2D-Plot-(Grid-data-at-one-time)-4.4.2\"><span class=\"toc-item-num\">4.4.2&nbsp;&nbsp;</span>2D Plot (Grid data at one time)</a></span></li><li><span><a href=\"#RMSE-for-grid\" data-toc-modified-id=\"RMSE-for-grid-4.4.3\"><span class=\"toc-item-num\">4.4.3&nbsp;&nbsp;</span>RMSE for grid</a></span></li></ul></li><li><span><a href=\"#Generate-Data-for-TUD\" data-toc-modified-id=\"Generate-Data-for-TUD-4.5\"><span class=\"toc-item-num\">4.5&nbsp;&nbsp;</span>Generate Data for TUD</a></span><ul class=\"toc-item\"><li><span><a href=\"#Grid-data\" data-toc-modified-id=\"Grid-data-4.5.1\"><span class=\"toc-item-num\">4.5.1&nbsp;&nbsp;</span>Grid data</a></span></li></ul></li></ul></li><li><span><a href=\"#Notes\" data-toc-modified-id=\"Notes-5\"><span class=\"toc-item-num\">5&nbsp;&nbsp;</span>Notes</a></span><ul class=\"toc-item\"><li><span><a href=\"#Over-fitting\" data-toc-modified-id=\"Over-fitting-5.1\"><span class=\"toc-item-num\">5.1&nbsp;&nbsp;</span>Over fitting</a></span></li><li><span><a href=\"#Difficulty-of-fitting-data-from-land\" data-toc-modified-id=\"Difficulty-of-fitting-data-from-land-5.2\"><span class=\"toc-item-num\">5.2&nbsp;&nbsp;</span>Difficulty of fitting data from land</a></span></li><li><span><a href=\"#k_reg\" data-toc-modified-id=\"k_reg-5.3\"><span class=\"toc-item-num\">5.3&nbsp;&nbsp;</span>k_reg</a></span></li><li><span><a href=\"#Adding-more-harmonic-term\" data-toc-modified-id=\"Adding-more-harmonic-term-5.4\"><span class=\"toc-item-num\">5.4&nbsp;&nbsp;</span>Adding more harmonic term</a></span></li></ul></li></ul></div>"
   ]
  },
  {
   "cell_type": "markdown",
   "id": "virgin-communist",
   "metadata": {},
   "source": [
    "# Introduction"
   ]
  },
  {
   "cell_type": "markdown",
   "id": "179b020a-34f8-48fe-8de7-fd8fcba12b7b",
   "metadata": {},
   "source": [
    "This file does the main PINNs works.\n",
    "The first case is mainly for testing. You can jumpy to case 2 directly."
   ]
  },
  {
   "cell_type": "markdown",
   "id": "convenient-property",
   "metadata": {},
   "source": [
    "# Import Packages"
   ]
  },
  {
   "cell_type": "code",
   "execution_count": 1,
   "id": "eastern-postage",
   "metadata": {
    "ExecuteTime": {
     "end_time": "2021-10-15T08:56:24.777486Z",
     "start_time": "2021-10-15T08:56:23.990787Z"
    }
   },
   "outputs": [],
   "source": [
    "import sys\n",
    "\n",
    "import numpy as np\n",
    "import pandas as pd\n",
    "import os\n",
    "import tqdm\n",
    "\n",
    "from datetime import datetime\n",
    "from matplotlib import pyplot as plt\n",
    "import math\n",
    "\n",
    "import pickle\n",
    "\n",
    "import torch"
   ]
  },
  {
   "cell_type": "code",
   "execution_count": 2,
   "id": "6b273cc7-c60a-439a-a886-29aa781189ac",
   "metadata": {
    "ExecuteTime": {
     "end_time": "2021-10-15T08:56:24.786928Z",
     "start_time": "2021-10-15T08:56:24.779037Z"
    }
   },
   "outputs": [],
   "source": [
    "# It is assumed that the wwf package is in the same folder. \n",
    "# If you want to put it somewhere else, make sure the Python can find and import it.\n",
    "sys.path.append('./')\n",
    "import wwf"
   ]
  },
  {
   "cell_type": "code",
   "execution_count": 3,
   "id": "40722043-85d0-4b98-aebf-ec4e6bc11864",
   "metadata": {
    "ExecuteTime": {
     "end_time": "2021-10-15T08:56:27.364080Z",
     "start_time": "2021-10-15T08:56:26.918208Z"
    }
   },
   "outputs": [],
   "source": [
    "# It's the same for the DeePyMoD package\n",
    "sys.path.insert(0, './DeePyMoD/src/')\n",
    "# DeepMoD functions\n",
    "from deepymod import DeepMoD\n",
    "from deepymod.model.func_approx import NN\n",
    "from deepymod.model.library import Library\n",
    "from deepymod.model.constraint import LeastSquares\n",
    "from deepymod.model.sparse_estimators import Threshold,PDEFIND\n",
    "from deepymod.training import train\n",
    "from deepymod.training.sparsity_scheduler import TrainTestPeriodic"
   ]
  },
  {
   "cell_type": "code",
   "execution_count": null,
   "id": "14dbcba2",
   "metadata": {},
   "outputs": [],
   "source": []
  },
  {
   "cell_type": "code",
   "execution_count": 4,
   "id": "e372e2ed-fb24-47d6-a57a-b035675b86bc",
   "metadata": {
    "ExecuteTime": {
     "end_time": "2021-10-15T08:56:31.037760Z",
     "start_time": "2021-10-15T08:56:30.996920Z"
    }
   },
   "outputs": [],
   "source": [
    "%load_ext autoreload\n",
    "%autoreload 2"
   ]
  },
  {
   "cell_type": "code",
   "execution_count": null,
   "id": "0833b6b3-6691-47c8-b0e5-8a811b2b4724",
   "metadata": {},
   "outputs": [],
   "source": [
    "# Settings for reproducibility\n",
    "# np.random.seed(42)\n",
    "# torch.manual_seed(0)"
   ]
  },
  {
   "cell_type": "code",
   "execution_count": 5,
   "id": "organic-copyright",
   "metadata": {
    "ExecuteTime": {
     "end_time": "2021-10-15T08:56:33.098694Z",
     "start_time": "2021-10-15T08:56:33.027752Z"
    }
   },
   "outputs": [
    {
     "data": {
      "text/plain": [
       "True"
      ]
     },
     "execution_count": 5,
     "metadata": {},
     "output_type": "execute_result"
    }
   ],
   "source": [
    "torch.cuda.is_available()"
   ]
  },
  {
   "cell_type": "markdown",
   "id": "collectible-major",
   "metadata": {},
   "source": [
    "# Case 1 - Temperature vs Time"
   ]
  },
  {
   "cell_type": "markdown",
   "id": "protecting-clinton",
   "metadata": {},
   "source": [
    "Try a simple case, mainly for testing the work flow of DeePyMod\n",
    "\n",
    "\n"
   ]
  },
  {
   "cell_type": "code",
   "execution_count": null,
   "id": "simplified-retention",
   "metadata": {},
   "outputs": [],
   "source": []
  },
  {
   "cell_type": "markdown",
   "id": "smaller-colorado",
   "metadata": {},
   "source": [
    "## Data Pre-processing"
   ]
  },
  {
   "cell_type": "code",
   "execution_count": 6,
   "id": "prime-plenty",
   "metadata": {
    "ExecuteTime": {
     "end_time": "2021-10-15T08:56:42.171081Z",
     "start_time": "2021-10-15T08:56:42.142161Z"
    },
    "tags": []
   },
   "outputs": [],
   "source": [
    "# Input of the raw data and output for the CSV files\n",
    "# Since the data has been processed, we don't need to set those\n",
    "# dir in this Notebook\n",
    "root = ''\n",
    "output_dir = ''"
   ]
  },
  {
   "cell_type": "code",
   "execution_count": 7,
   "id": "accredited-discipline",
   "metadata": {
    "ExecuteTime": {
     "end_time": "2021-10-15T08:56:42.820792Z",
     "start_time": "2021-10-15T08:56:42.778432Z"
    },
    "tags": []
   },
   "outputs": [],
   "source": [
    "# Using the Ds083p2Handler to help handling the data\n",
    "dsh = wwf.Ds083p2Handler(root, output_dir)"
   ]
  },
  {
   "cell_type": "code",
   "execution_count": 8,
   "id": "instant-destination",
   "metadata": {
    "ExecuteTime": {
     "end_time": "2021-10-15T08:56:46.737866Z",
     "start_time": "2021-10-15T08:56:43.573027Z"
    }
   },
   "outputs": [],
   "source": [
    "# Load data\n",
    "dsh.df = pd.read_pickle('./dataframe.pk.zip')"
   ]
  },
  {
   "cell_type": "code",
   "execution_count": null,
   "id": "a46fff77",
   "metadata": {},
   "outputs": [],
   "source": []
  },
  {
   "cell_type": "markdown",
   "id": "surface-check",
   "metadata": {},
   "source": [
    "Get the input data for NNs: time and temperature"
   ]
  },
  {
   "cell_type": "code",
   "execution_count": 9,
   "id": "floppy-meaning",
   "metadata": {},
   "outputs": [
    {
     "data": {
      "text/html": [
       "<div>\n",
       "<style scoped>\n",
       "    .dataframe tbody tr th:only-of-type {\n",
       "        vertical-align: middle;\n",
       "    }\n",
       "\n",
       "    .dataframe tbody tr th {\n",
       "        vertical-align: top;\n",
       "    }\n",
       "\n",
       "    .dataframe thead th {\n",
       "        text-align: right;\n",
       "    }\n",
       "</style>\n",
       "<table border=\"1\" class=\"dataframe\">\n",
       "  <thead>\n",
       "    <tr style=\"text-align: right;\">\n",
       "      <th></th>\n",
       "      <th>Time1</th>\n",
       "      <th>Time2</th>\n",
       "      <th>Para</th>\n",
       "      <th>Alt</th>\n",
       "      <th>Lon</th>\n",
       "      <th>Lat</th>\n",
       "      <th>Val</th>\n",
       "      <th>Houridx</th>\n",
       "    </tr>\n",
       "  </thead>\n",
       "  <tbody>\n",
       "    <tr>\n",
       "      <th>1512</th>\n",
       "      <td>2008-01-01 00:00:00</td>\n",
       "      <td>2008-01-01 00:00:00</td>\n",
       "      <td>TMP</td>\n",
       "      <td>surface</td>\n",
       "      <td>-15</td>\n",
       "      <td>28</td>\n",
       "      <td>293.300</td>\n",
       "      <td>333095.0</td>\n",
       "    </tr>\n",
       "    <tr>\n",
       "      <th>3569</th>\n",
       "      <td>2008-01-02 00:00:00</td>\n",
       "      <td>2008-01-02 00:00:00</td>\n",
       "      <td>TMP</td>\n",
       "      <td>surface</td>\n",
       "      <td>-15</td>\n",
       "      <td>28</td>\n",
       "      <td>293.400</td>\n",
       "      <td>333119.0</td>\n",
       "    </tr>\n",
       "    <tr>\n",
       "      <th>5626</th>\n",
       "      <td>2008-01-03 00:00:00</td>\n",
       "      <td>2008-01-03 00:00:00</td>\n",
       "      <td>TMP</td>\n",
       "      <td>surface</td>\n",
       "      <td>-15</td>\n",
       "      <td>28</td>\n",
       "      <td>293.300</td>\n",
       "      <td>333143.0</td>\n",
       "    </tr>\n",
       "    <tr>\n",
       "      <th>7683</th>\n",
       "      <td>2008-01-04 00:00:00</td>\n",
       "      <td>2008-01-04 00:00:00</td>\n",
       "      <td>TMP</td>\n",
       "      <td>surface</td>\n",
       "      <td>-15</td>\n",
       "      <td>28</td>\n",
       "      <td>293.200</td>\n",
       "      <td>333167.0</td>\n",
       "    </tr>\n",
       "    <tr>\n",
       "      <th>9740</th>\n",
       "      <td>2008-01-05 00:00:00</td>\n",
       "      <td>2008-01-05 00:00:00</td>\n",
       "      <td>TMP</td>\n",
       "      <td>surface</td>\n",
       "      <td>-15</td>\n",
       "      <td>28</td>\n",
       "      <td>293.100</td>\n",
       "      <td>333191.0</td>\n",
       "    </tr>\n",
       "    <tr>\n",
       "      <th>...</th>\n",
       "      <td>...</td>\n",
       "      <td>...</td>\n",
       "      <td>...</td>\n",
       "      <td>...</td>\n",
       "      <td>...</td>\n",
       "      <td>...</td>\n",
       "      <td>...</td>\n",
       "      <td>...</td>\n",
       "    </tr>\n",
       "    <tr>\n",
       "      <th>13892518</th>\n",
       "      <td>2021-03-21 00:00:00</td>\n",
       "      <td>2021-03-21 00:00:00</td>\n",
       "      <td>TMP</td>\n",
       "      <td>surface</td>\n",
       "      <td>-15</td>\n",
       "      <td>28</td>\n",
       "      <td>291.566</td>\n",
       "      <td>448967.0</td>\n",
       "    </tr>\n",
       "    <tr>\n",
       "      <th>13896666</th>\n",
       "      <td>2021-03-22 00:00:00</td>\n",
       "      <td>2021-03-22 00:00:00</td>\n",
       "      <td>TMP</td>\n",
       "      <td>surface</td>\n",
       "      <td>-15</td>\n",
       "      <td>28</td>\n",
       "      <td>291.300</td>\n",
       "      <td>448991.0</td>\n",
       "    </tr>\n",
       "    <tr>\n",
       "      <th>13900935</th>\n",
       "      <td>2021-03-23 00:00:00</td>\n",
       "      <td>2021-03-23 00:00:00</td>\n",
       "      <td>TMP</td>\n",
       "      <td>surface</td>\n",
       "      <td>-15</td>\n",
       "      <td>28</td>\n",
       "      <td>291.362</td>\n",
       "      <td>449015.0</td>\n",
       "    </tr>\n",
       "    <tr>\n",
       "      <th>13905508</th>\n",
       "      <td>2021-03-24 00:00:00</td>\n",
       "      <td>2021-03-24 00:00:00</td>\n",
       "      <td>TMP</td>\n",
       "      <td>surface</td>\n",
       "      <td>-15</td>\n",
       "      <td>28</td>\n",
       "      <td>291.256</td>\n",
       "      <td>449039.0</td>\n",
       "    </tr>\n",
       "    <tr>\n",
       "      <th>13910081</th>\n",
       "      <td>2021-03-25 00:00:00</td>\n",
       "      <td>2021-03-25 00:00:00</td>\n",
       "      <td>TMP</td>\n",
       "      <td>surface</td>\n",
       "      <td>-15</td>\n",
       "      <td>28</td>\n",
       "      <td>291.342</td>\n",
       "      <td>449063.0</td>\n",
       "    </tr>\n",
       "  </tbody>\n",
       "</table>\n",
       "<p>4832 rows × 8 columns</p>\n",
       "</div>"
      ],
      "text/plain": [
       "                        Time1                Time2 Para      Alt  Lon  Lat  \\\n",
       "1512      2008-01-01 00:00:00  2008-01-01 00:00:00  TMP  surface  -15   28   \n",
       "3569      2008-01-02 00:00:00  2008-01-02 00:00:00  TMP  surface  -15   28   \n",
       "5626      2008-01-03 00:00:00  2008-01-03 00:00:00  TMP  surface  -15   28   \n",
       "7683      2008-01-04 00:00:00  2008-01-04 00:00:00  TMP  surface  -15   28   \n",
       "9740      2008-01-05 00:00:00  2008-01-05 00:00:00  TMP  surface  -15   28   \n",
       "...                       ...                  ...  ...      ...  ...  ...   \n",
       "13892518  2021-03-21 00:00:00  2021-03-21 00:00:00  TMP  surface  -15   28   \n",
       "13896666  2021-03-22 00:00:00  2021-03-22 00:00:00  TMP  surface  -15   28   \n",
       "13900935  2021-03-23 00:00:00  2021-03-23 00:00:00  TMP  surface  -15   28   \n",
       "13905508  2021-03-24 00:00:00  2021-03-24 00:00:00  TMP  surface  -15   28   \n",
       "13910081  2021-03-25 00:00:00  2021-03-25 00:00:00  TMP  surface  -15   28   \n",
       "\n",
       "              Val   Houridx  \n",
       "1512      293.300  333095.0  \n",
       "3569      293.400  333119.0  \n",
       "5626      293.300  333143.0  \n",
       "7683      293.200  333167.0  \n",
       "9740      293.100  333191.0  \n",
       "...           ...       ...  \n",
       "13892518  291.566  448967.0  \n",
       "13896666  291.300  448991.0  \n",
       "13900935  291.362  449015.0  \n",
       "13905508  291.256  449039.0  \n",
       "13910081  291.342  449063.0  \n",
       "\n",
       "[4832 rows x 8 columns]"
      ]
     },
     "execution_count": 9,
     "metadata": {},
     "output_type": "execute_result"
    }
   ],
   "source": [
    "# Get the 'TMP' data at 'surface' for (lon, lat)\n",
    "data_lon = -15\n",
    "data_lat = 28\n",
    "dsh.get_time_series_data('TMP', 'surface', data_lon, data_lat)"
   ]
  },
  {
   "cell_type": "code",
   "execution_count": 10,
   "id": "neural-happening",
   "metadata": {},
   "outputs": [
    {
     "name": "stdout",
     "output_type": "stream",
     "text": [
      "Number of data points: 4832\n"
     ]
    }
   ],
   "source": [
    "# Time in days\n",
    "time_array = dsh.time_df['Houridx'].to_numpy()/24.0\n",
    "# Shift the time, so the data starts from 0\n",
    "time_array -= time_array[0]\n",
    "# Temperature in K\n",
    "temperature_array = dsh.time_df['Val'].to_numpy()\n",
    "n_total = time_array.shape[0]\n",
    "print(f'Number of data points: {n_total}')"
   ]
  },
  {
   "cell_type": "code",
   "execution_count": 11,
   "id": "downtown-degree",
   "metadata": {},
   "outputs": [],
   "source": [
    "# Test remove mean temperature\n",
    "temperature_array -= np.mean(temperature_array)"
   ]
  },
  {
   "cell_type": "code",
   "execution_count": 13,
   "id": "mature-antibody",
   "metadata": {},
   "outputs": [
    {
     "data": {
      "text/plain": [
       "[<matplotlib.lines.Line2D at 0x7fa734740df0>]"
      ]
     },
     "execution_count": 13,
     "metadata": {},
     "output_type": "execute_result"
    },
    {
     "data": {
      "image/png": "[encoded data removed]",
      "text/plain": [
       "<Figure size 1440x648 with 1 Axes>"
      ]
     },
     "metadata": {
      "needs_background": "light"
     },
     "output_type": "display_data"
    }
   ],
   "source": [
    "plt.figure(figsize=(20, 9))\n",
    "plt.plot(time_array/365.0+2008, temperature_array)\n"
   ]
  },
  {
   "cell_type": "code",
   "execution_count": null,
   "id": "involved-spain",
   "metadata": {},
   "outputs": [],
   "source": []
  },
  {
   "cell_type": "code",
   "execution_count": 14,
   "id": "fossil-ebony",
   "metadata": {},
   "outputs": [
    {
     "data": {
      "image/png": "[encoded data removed]",
      "text/plain": [
       "<Figure size 1440x432 with 1 Axes>"
      ]
     },
     "metadata": {
      "needs_background": "light"
     },
     "output_type": "display_data"
    }
   ],
   "source": [
    "# Use FFT to check the frequency components of the data\n",
    "from scipy.fft import rfft, rfftfreq\n",
    "\n",
    "# Note the extra 'r' at the front\n",
    "yf = rfft(temperature_array)\n",
    "xf = rfftfreq(n_total, 1.0/365.0)\n",
    "\n",
    "n_p = 50\n",
    "\n",
    "plt.figure(figsize=(20, 6))\n",
    "plt.plot(xf[:n_p], np.abs(yf)[:n_p])\n",
    "plt.show()"
   ]
  },
  {
   "cell_type": "code",
   "execution_count": null,
   "id": "oriental-clerk",
   "metadata": {},
   "outputs": [],
   "source": []
  },
  {
   "cell_type": "code",
   "execution_count": 15,
   "id": "exciting-integrity",
   "metadata": {},
   "outputs": [],
   "source": [
    "# Use the first n_train data for training\n",
    "n_train = 365*10"
   ]
  },
  {
   "cell_type": "code",
   "execution_count": 16,
   "id": "innovative-hardware",
   "metadata": {},
   "outputs": [],
   "source": [
    "X_train = torch.tensor( time_array[:n_train].reshape((-1, 1)), dtype=torch.float32, requires_grad=True)\n",
    "Y_train = torch.tensor(temperature_array[:n_train].reshape((-1, 1)), dtype=torch.float32)"
   ]
  },
  {
   "cell_type": "code",
   "execution_count": 17,
   "id": "powered-audience",
   "metadata": {},
   "outputs": [
    {
     "data": {
      "text/plain": [
       "torch.Size([3650, 1])"
      ]
     },
     "execution_count": 17,
     "metadata": {},
     "output_type": "execute_result"
    }
   ],
   "source": [
    "X_train.shape"
   ]
  },
  {
   "cell_type": "code",
   "execution_count": 18,
   "id": "central-newspaper",
   "metadata": {},
   "outputs": [
    {
     "data": {
      "text/plain": [
       "torch.Size([3650, 1])"
      ]
     },
     "execution_count": 18,
     "metadata": {},
     "output_type": "execute_result"
    }
   ],
   "source": [
    "Y_train.shape"
   ]
  },
  {
   "cell_type": "code",
   "execution_count": null,
   "id": "relevant-progress",
   "metadata": {},
   "outputs": [],
   "source": []
  },
  {
   "cell_type": "code",
   "execution_count": 19,
   "id": "complex-solution",
   "metadata": {},
   "outputs": [
    {
     "data": {
      "text/plain": [
       "1"
      ]
     },
     "execution_count": 19,
     "metadata": {},
     "output_type": "execute_result"
    }
   ],
   "source": [
    "n_input = X_train.shape[1]\n",
    "n_input"
   ]
  },
  {
   "cell_type": "code",
   "execution_count": null,
   "id": "processed-preserve",
   "metadata": {},
   "outputs": [],
   "source": []
  },
  {
   "cell_type": "markdown",
   "id": "functioning-musical",
   "metadata": {},
   "source": [
    "## Custom Model"
   ]
  },
  {
   "cell_type": "code",
   "execution_count": 20,
   "id": "final-collect",
   "metadata": {},
   "outputs": [],
   "source": [
    "from typing import *\n",
    "\n",
    "class SinCosLayer(torch.nn.Module):\n",
    "    def __init__(\n",
    "        self,\n",
    "        p_list: List[float]\n",
    "    ) -> None:\n",
    "        \"\"\"Sin/Cos activation function layer with different period.\n",
    "        Args:\n",
    "\n",
    "        \"\"\"\n",
    "        super().__init__()\n",
    "        self.p_list = p_list\n",
    "\n",
    "    def forward(self, input: torch.Tensor) -> torch.Tensor:\n",
    "        \"\"\"Forward pass through the layer.\n",
    "        Args:\n",
    "            input (torch.Tensor): Input tensor of shape (n_samples, n_inputs).\n",
    "        Returns:\n",
    "            torch.Tensor: Prediction of shape (n_samples, n_outputs)\n",
    "        \"\"\"\n",
    "        n_in = input.shape[1]\n",
    "        n_p = len(self.p_list)\n",
    "        \n",
    "        sincos_list = []\n",
    "        for i in range(n_p):\n",
    "            omega = 2.0*np.pi/self.p_list[i]\n",
    "            \n",
    "            sincos_list.append(torch.sin(omega*input[:, 0:1]))\n",
    "            sincos_list.append(torch.cos(omega*input[:, 0:1]))\n",
    "            \n",
    "        output = torch.cat([input] + sincos_list, dim=1)\n",
    "        \n",
    "        return output       \n",
    "        \n",
    "\n",
    "class SCNN(torch.nn.Module):\n",
    "    def __init__(self, n_in: int, n_hidden: List[int], n_out: int, p_list: List[float]) -> None:\n",
    "        \"\"\"Constructs a feed-forward neural network with tanh activation.\n",
    "        Args:\n",
    "            n_in (int): Number of input features.\n",
    "            n_hidden (List[int]): Number of neurons in each layer.\n",
    "            n_out (int): Number of output features.\n",
    "            p_list (List[float]): list of sin/cos period\n",
    "        \"\"\"\n",
    "        super().__init__()\n",
    "        self.p_list = p_list\n",
    "        self.network = self.build_network(n_in, n_hidden, n_out, p_list)\n",
    "\n",
    "    def forward(self, input: torch.Tensor) -> Tuple[torch.Tensor, torch.Tensor]:\n",
    "        \"\"\"Forward pass through the network. Returns prediction and the differentiable input\n",
    "        so we can construct the library.\n",
    "        Args:\n",
    "            input (torch.Tensor): Input tensor of size (n_samples, n_inputs).\n",
    "        Returns:\n",
    "            (torch.Tensor, torch.Tensor): prediction of size (n_samples, n_outputs) and coordinates of size (n_samples, n_inputs).\n",
    "        \"\"\"\n",
    "        coordinates = input.clone().detach().requires_grad_(True)\n",
    "        return self.network(coordinates), coordinates\n",
    "\n",
    "    def build_network(self, n_in: int, n_hidden: List[int], n_out: int, p_list: [float]) -> torch.nn.Sequential:\n",
    "        \"\"\"Constructs a feed-forward neural network.\n",
    "        Args:\n",
    "            n_in (int): Number of input features.\n",
    "            n_hidden (list[int]): Number of neurons in each layer.\n",
    "            n_out (int): Number of output features.\n",
    "            p_list (List[float]): list of sin/cos period\n",
    "        Returns:\n",
    "            torch.Sequential: Pytorch module\n",
    "        \"\"\"\n",
    "\n",
    "        network = [SinCosLayer(p_list)]\n",
    "        \n",
    "        n_sc_out = n_in + len(p_list) * 2\n",
    "        \n",
    "        architecture = [n_sc_out] + n_hidden + [n_out]\n",
    "        for layer_i, layer_j in zip(architecture, architecture[1:]):\n",
    "            network.append(torch.nn.Linear(layer_i, layer_j))\n",
    "            network.append(torch.nn.Tanh())\n",
    "        network.pop()  # get rid of last activation function\n",
    "        return torch.nn.Sequential(*network)"
   ]
  },
  {
   "cell_type": "code",
   "execution_count": null,
   "id": "above-liverpool",
   "metadata": {},
   "outputs": [],
   "source": []
  },
  {
   "cell_type": "markdown",
   "id": "western-married",
   "metadata": {},
   "source": [
    "## Setup a custom library"
   ]
  },
  {
   "cell_type": "markdown",
   "id": "developmental-breeding",
   "metadata": {},
   "source": [
    "In this notebook we show how the user can create a custom build library.The library function, $\\theta$, in this case contains $[1,u,v, sin(u)]$ to showcase that non-linear terms can easily be added to the library"
   ]
  },
  {
   "cell_type": "code",
   "execution_count": 21,
   "id": "dressed-consistency",
   "metadata": {},
   "outputs": [],
   "source": [
    "from torch.autograd import grad\n",
    "from itertools import combinations, product\n",
    "from functools import reduce\n",
    "from typing import Tuple\n",
    "import ipdb"
   ]
  },
  {
   "cell_type": "code",
   "execution_count": 22,
   "id": "underlying-record",
   "metadata": {},
   "outputs": [],
   "source": [
    "class Library_nonlinear(Library):\n",
    "    \"\"\"[summary]\n",
    "\n",
    "    Args:\n",
    "        Library ([type]): [description]\n",
    "    \"\"\"\n",
    "    def __init__(self, period_list) -> None:\n",
    "        super().__init__()\n",
    "        self.period_list = period_list\n",
    "        \n",
    "        self.cal_count = 0\n",
    "\n",
    "    #def library(self, input: Tuple[torch.Tensor, torch.Tensor]) -> Tuple[TensorList, TensorList]:\n",
    "    def library(self, input):\n",
    "        prediction, data = input\n",
    "        samples = prediction.shape[0]\n",
    "        \n",
    "        n_order = int((data.shape[1] - 1)/2.0)\n",
    "                \n",
    "        # Construct the theta matrix\n",
    "        C = torch.ones_like(prediction[:,0]).view(samples, -1)\n",
    "        \n",
    "        # ipdb.set_trace()\n",
    "        \n",
    "        time_array = data[:, 0:1]\n",
    "        arg_state_list = []\n",
    "        for i in range(len(self.period_list)):\n",
    "            omega = 2.0*np.pi/self.period_list[i]\n",
    "            arg_state_list.append(torch.sin(time_array*omega)*omega)\n",
    "            arg_state_list.append(torch.cos(time_array*omega)*omega) \n",
    "        \n",
    "        #arg_state_list = []\n",
    "        #for i in range(n_order):\n",
    "        #    arg_state_list.append(data[:, 2*i+2].view(samples, -1))\n",
    "        #    arg_state_list.append(data[:, 2*i+1].view(samples, -1)*-1.0)\n",
    "        \n",
    "        theta = torch.cat([C] + arg_state_list, dim=1)\n",
    "    \n",
    "        # Construct a list of time_derivatives \n",
    "        time_deriv_list = []\n",
    "        for output in torch.arange(prediction.shape[1]):\n",
    "            dy = grad(prediction[:,output], data, grad_outputs=torch.ones_like(prediction[:,output]), create_graph=True, allow_unused=True)[0]\n",
    "            time_deriv = dy[:, 0:1]\n",
    "            time_deriv_list.append(time_deriv)       \n",
    "        \n",
    "        if self.cal_count > 50:\n",
    "            # ipdb.set_trace()\n",
    "            t_pred = prediction[:,0].detach().numpy()\n",
    "            time_array = data[:, 0].detach().numpy()\n",
    "            plt.plot(time_array, time_deriv.detach().numpy(), 'r')\n",
    "\n",
    "            # plt.plot(time_array, t_pred, 'b')\n",
    "            \n",
    "            plt.plot(time_array[1:], t_pred[1:]-t_pred[:-1], 'k')\n",
    "\n",
    "            plt.show()\n",
    "        \n",
    "       # self.cal_count += 1\n",
    "\n",
    "        \n",
    "        \n",
    "        return time_deriv_list, [theta[:, 1:]]\n"
   ]
  },
  {
   "cell_type": "markdown",
   "id": "combined-dating",
   "metadata": {},
   "source": [
    "## Configuration of DeepMoD"
   ]
  },
  {
   "cell_type": "markdown",
   "id": "western-wildlife",
   "metadata": {},
   "source": [
    "Configuration of the function approximator: Here the first argument is the number of input and the last argument the number of output layers."
   ]
  },
  {
   "cell_type": "code",
   "execution_count": 23,
   "id": "southeast-relations",
   "metadata": {},
   "outputs": [],
   "source": [
    "p_list_nn = np.array([1.0/12.0, 0.75, 1.0, 1.5, 2.0])*365.0\n",
    "p_list_de = np.array([0.1, 0.2, 0.5, 0.75, 1.0, 1.5, 2.0, 3.0])*365.0"
   ]
  },
  {
   "cell_type": "code",
   "execution_count": 24,
   "id": "varied-aaron",
   "metadata": {},
   "outputs": [
    {
     "data": {
      "text/plain": [
       "1"
      ]
     },
     "execution_count": 24,
     "metadata": {},
     "output_type": "execute_result"
    }
   ],
   "source": [
    "n_input"
   ]
  },
  {
   "cell_type": "code",
   "execution_count": 25,
   "id": "ordinary-playback",
   "metadata": {},
   "outputs": [],
   "source": [
    "network = SCNN(n_input, [40, 40, 40, 40], 1, p_list_nn)"
   ]
  },
  {
   "cell_type": "code",
   "execution_count": 26,
   "id": "sitting-egypt",
   "metadata": {},
   "outputs": [],
   "source": [
    "library = Library_nonlinear(p_list_de) "
   ]
  },
  {
   "cell_type": "markdown",
   "id": "north-uganda",
   "metadata": {},
   "source": [
    "Configuration of the sparsity estimator and sparsity scheduler used. In this case we use the most basic threshold-based Lasso estimator and a scheduler that asseses the validation loss after a given patience. If that value is smaller than 1e-5, the algorithm is converged.  "
   ]
  },
  {
   "cell_type": "code",
   "execution_count": 27,
   "id": "independent-ending",
   "metadata": {},
   "outputs": [],
   "source": [
    "estimator = Threshold(0.01) \n",
    "sparsity_scheduler = TrainTestPeriodic(periodicity=50, patience=10, delta=1e-5) "
   ]
  },
  {
   "cell_type": "markdown",
   "id": "certified-development",
   "metadata": {},
   "source": [
    "Configuration of the sparsity estimator "
   ]
  },
  {
   "cell_type": "code",
   "execution_count": 28,
   "id": "beginning-killer",
   "metadata": {},
   "outputs": [],
   "source": [
    "constraint = LeastSquares() \n",
    "# Configuration of the sparsity scheduler"
   ]
  },
  {
   "cell_type": "markdown",
   "id": "brazilian-department",
   "metadata": {},
   "source": [
    "Now we instantiate the model and select the optimizer "
   ]
  },
  {
   "cell_type": "code",
   "execution_count": 29,
   "id": "superb-zimbabwe",
   "metadata": {},
   "outputs": [],
   "source": [
    "model = DeepMoD(network, library, estimator, constraint)\n",
    "\n",
    "# Defining optimizer\n",
    "optimizer = torch.optim.Adam(model.parameters(), betas=(0.99, 0.99), amsgrad=True, lr=2e-3) \n"
   ]
  },
  {
   "cell_type": "markdown",
   "id": "exotic-familiar",
   "metadata": {},
   "source": [
    "## Run DeepMoD "
   ]
  },
  {
   "cell_type": "markdown",
   "id": "medieval-thanks",
   "metadata": {},
   "source": [
    "We can now run DeepMoD using all the options we have set and the training data:\n",
    "* The directory where the tensorboard file is written (log_dir)\n",
    "* The ratio of train/test set used (split)\n",
    "* The maximum number of iterations performed (max_iterations)\n",
    "* The absolute change in L1 norm considered converged (delta)\n",
    "* The amount of epochs over which the absolute change in L1 norm is calculated (patience)"
   ]
  },
  {
   "cell_type": "code",
   "execution_count": 30,
   "id": "rural-teacher",
   "metadata": {},
   "outputs": [
    {
     "name": "stderr",
     "output_type": "stream",
     "text": [
      "2021-09-27 14:11:15.804374: W tensorflow/stream_executor/platform/default/dso_loader.cc:64] Could not load dynamic library 'libcudart.so.11.0'; dlerror: libcudart.so.11.0: cannot open shared object file: No such file or directory\n",
      "2021-09-27 14:11:15.804396: I tensorflow/stream_executor/cuda/cudart_stub.cc:29] Ignore above cudart dlerror if you do not have a GPU set up on your machine.\n"
     ]
    },
    {
     "ename": "IndexError",
     "evalue": "index 1 is out of bounds for dimension 0 with size 1",
     "output_type": "error",
     "traceback": [
      "\u001b[0;31m---------------------------------------------------------------------------\u001b[0m",
      "\u001b[0;31mIndexError\u001b[0m                                Traceback (most recent call last)",
      "\u001b[0;32m/tmp/ipykernel_6014/1271851798.py\u001b[0m in \u001b[0;36m<module>\u001b[0;34m\u001b[0m\n\u001b[0;32m----> 1\u001b[0;31m \u001b[0mtrain\u001b[0m\u001b[0;34m(\u001b[0m\u001b[0mmodel\u001b[0m\u001b[0;34m,\u001b[0m \u001b[0mX_train\u001b[0m\u001b[0;34m,\u001b[0m \u001b[0mY_train\u001b[0m\u001b[0;34m,\u001b[0m \u001b[0moptimizer\u001b[0m\u001b[0;34m,\u001b[0m \u001b[0msparsity_scheduler\u001b[0m\u001b[0;34m,\u001b[0m \u001b[0mlog_dir\u001b[0m\u001b[0;34m=\u001b[0m\u001b[0;34m'runs/C3/'\u001b[0m\u001b[0;34m,\u001b[0m \u001b[0msplit\u001b[0m\u001b[0;34m=\u001b[0m\u001b[0;36m0.9\u001b[0m\u001b[0;34m,\u001b[0m \u001b[0mmax_iterations\u001b[0m\u001b[0;34m=\u001b[0m\u001b[0;36m100000\u001b[0m\u001b[0;34m,\u001b[0m \u001b[0mdelta\u001b[0m\u001b[0;34m=\u001b[0m\u001b[0;36m1e-3\u001b[0m\u001b[0;34m,\u001b[0m \u001b[0mpatience\u001b[0m\u001b[0;34m=\u001b[0m\u001b[0;36m8\u001b[0m\u001b[0;34m)\u001b[0m\u001b[0;34m\u001b[0m\u001b[0;34m\u001b[0m\u001b[0m\n\u001b[0m",
      "\u001b[0;32m~/DeepMod/pythonProjectII/DeePyMoD/src/deepymod/training/training.py\u001b[0m in \u001b[0;36mtrain\u001b[0;34m(model, train_dataloader, test_dataloader, optimizer, sparsity_scheduler, split, exp_ID, log_dir, max_iterations, write_iterations, reg_coef, **convergence_kwargs)\u001b[0m\n\u001b[1;32m     40\u001b[0m         \u001b[0mlogger\u001b[0m\u001b[0;34m.\u001b[0m\u001b[0mlog_dir\u001b[0m\u001b[0;34m\u001b[0m\u001b[0;34m\u001b[0m\u001b[0m\n\u001b[1;32m     41\u001b[0m     )  # write checkpoint to same folder as tb output.\n\u001b[0;32m---> 42\u001b[0;31m     \u001b[0mn_features\u001b[0m \u001b[0;34m=\u001b[0m \u001b[0mtrain_dataloader\u001b[0m\u001b[0;34m[\u001b[0m\u001b[0;36m0\u001b[0m\u001b[0;34m]\u001b[0m\u001b[0;34m[\u001b[0m\u001b[0;36m1\u001b[0m\u001b[0;34m]\u001b[0m\u001b[0;34m.\u001b[0m\u001b[0mshape\u001b[0m\u001b[0;34m[\u001b[0m\u001b[0;34m-\u001b[0m\u001b[0;36m1\u001b[0m\u001b[0;34m]\u001b[0m\u001b[0;34m\u001b[0m\u001b[0;34m\u001b[0m\u001b[0m\n\u001b[0m\u001b[1;32m     43\u001b[0m     \u001b[0;31m# n_features = model.func_approx.modules()\u001b[0m\u001b[0;34m\u001b[0m\u001b[0;34m\u001b[0m\u001b[0;34m\u001b[0m\u001b[0m\n\u001b[1;32m     44\u001b[0m     \u001b[0;31m# Training\u001b[0m\u001b[0;34m\u001b[0m\u001b[0;34m\u001b[0m\u001b[0;34m\u001b[0m\u001b[0m\n",
      "\u001b[0;31mIndexError\u001b[0m: index 1 is out of bounds for dimension 0 with size 1"
     ]
    }
   ],
   "source": [
    "train(model, X_train, Y_train, optimizer, sparsity_scheduler, log_dir='runs/C3/', split=0.9, max_iterations=100000, delta=1e-3, patience=8) "
   ]
  },
  {
   "cell_type": "markdown",
   "id": "saving-design",
   "metadata": {},
   "source": [
    "Sparsity masks provide the active and non-active terms in the PDE:"
   ]
  },
  {
   "cell_type": "code",
   "execution_count": null,
   "id": "fewer-force",
   "metadata": {},
   "outputs": [],
   "source": [
    "model.sparsity_masks"
   ]
  },
  {
   "cell_type": "markdown",
   "id": "elect-recycling",
   "metadata": {},
   "source": [
    "estimatior_coeffs gives the magnitude of the active terms:"
   ]
  },
  {
   "cell_type": "code",
   "execution_count": null,
   "id": "appropriate-vintage",
   "metadata": {},
   "outputs": [],
   "source": [
    "print(model.estimator_coeffs())"
   ]
  },
  {
   "cell_type": "code",
   "execution_count": null,
   "id": "basic-liberty",
   "metadata": {},
   "outputs": [],
   "source": []
  },
  {
   "cell_type": "markdown",
   "id": "absent-harassment",
   "metadata": {},
   "source": [
    "## Plot"
   ]
  },
  {
   "cell_type": "code",
   "execution_count": null,
   "id": "recreational-testament",
   "metadata": {},
   "outputs": [],
   "source": []
  },
  {
   "cell_type": "code",
   "execution_count": null,
   "id": "promotional-aaron",
   "metadata": {},
   "outputs": [],
   "source": [
    "in_test = np.arange(0, 365*30, 1)\n",
    "out_test = np.zeros(in_test.shape)\n",
    "out_test.shape"
   ]
  },
  {
   "cell_type": "code",
   "execution_count": null,
   "id": "spread-planner",
   "metadata": {},
   "outputs": [],
   "source": [
    "for i in range(in_test.shape[0]):\n",
    "    t = in_test[i]\n",
    "    in_data = [[t]]\n",
    "        \n",
    "    out_test[i] = model.func_approx(torch.Tensor(in_data))[0].item()\n",
    "    "
   ]
  },
  {
   "cell_type": "code",
   "execution_count": null,
   "id": "younger-yahoo",
   "metadata": {},
   "outputs": [],
   "source": [
    "plt.figure(figsize=(20, 9))\n",
    "plt.plot(in_test/365.0+2008, out_test, 'b', label='Model')\n",
    "plt.plot(time_array[:n_train]/365.0+2008, temperature_array[:n_train], '*', label='Train Data')\n",
    "plt.plot(time_array[n_train:]/365.0+2008, temperature_array[n_train:], 'sr', label='Test Data')\n",
    "plt.legend()\n",
    "plt.xlabel('Year')\n",
    "plt.ylabel('T')\n",
    "plt.savefig('./output/model.jpg')"
   ]
  },
  {
   "cell_type": "code",
   "execution_count": null,
   "id": "primary-progressive",
   "metadata": {},
   "outputs": [],
   "source": []
  },
  {
   "cell_type": "markdown",
   "id": "acoustic-rocket",
   "metadata": {},
   "source": [
    "# Case 2 - Temperature vs Time and x-, y-location"
   ]
  },
  {
   "cell_type": "markdown",
   "id": "charming-savannah",
   "metadata": {},
   "source": [
    "In this case, both the time and 2D location is used as input."
   ]
  },
  {
   "cell_type": "markdown",
   "id": "bulgarian-malawi",
   "metadata": {},
   "source": [
    "## Data Pre-processing"
   ]
  },
  {
   "cell_type": "code",
   "execution_count": 9,
   "id": "423c166b-7330-48f3-98c7-6bb42e4c2eb6",
   "metadata": {
    "ExecuteTime": {
     "end_time": "2021-10-15T08:56:55.477463Z",
     "start_time": "2021-10-15T08:56:55.445651Z"
    },
    "tags": []
   },
   "outputs": [],
   "source": [
    "# Input of the raw data and output for the CSV files\n",
    "# Since the data has been processed, we don't need to set those\n",
    "# dir in this Notebook\n",
    "root = ''\n",
    "output_dir = ''"
   ]
  },
  {
   "cell_type": "code",
   "execution_count": null,
   "id": "satisfied-chick",
   "metadata": {
    "tags": []
   },
   "outputs": [],
   "source": [
    "dsh = wwf.Ds083p2Handler(root, output_dir)"
   ]
  },
  {
   "cell_type": "code",
   "execution_count": null,
   "id": "enhanced-arrest",
   "metadata": {},
   "outputs": [],
   "source": [
    "# Load data\n",
    "\n",
    "dsh.df = pd.read_pickle('./dataframe.pk.zip')"
   ]
  },
  {
   "cell_type": "markdown",
   "id": "thrown-softball",
   "metadata": {},
   "source": [
    "Get the input data for NNs: time, lon, lat, and temperature"
   ]
  },
  {
   "cell_type": "code",
   "execution_count": 10,
   "id": "statewide-effort",
   "metadata": {
    "ExecuteTime": {
     "end_time": "2021-10-15T08:57:00.023695Z",
     "start_time": "2021-10-15T08:56:58.588848Z"
    }
   },
   "outputs": [
    {
     "data": {
      "text/html": [
       "<div>\n",
       "<style scoped>\n",
       "    .dataframe tbody tr th:only-of-type {\n",
       "        vertical-align: middle;\n",
       "    }\n",
       "\n",
       "    .dataframe tbody tr th {\n",
       "        vertical-align: top;\n",
       "    }\n",
       "\n",
       "    .dataframe thead th {\n",
       "        text-align: right;\n",
       "    }\n",
       "</style>\n",
       "<table border=\"1\" class=\"dataframe\">\n",
       "  <thead>\n",
       "    <tr style=\"text-align: right;\">\n",
       "      <th></th>\n",
       "      <th>Time1</th>\n",
       "      <th>Time2</th>\n",
       "      <th>Para</th>\n",
       "      <th>Alt</th>\n",
       "      <th>Lon</th>\n",
       "      <th>Lat</th>\n",
       "      <th>Val</th>\n",
       "      <th>Houridx</th>\n",
       "    </tr>\n",
       "  </thead>\n",
       "  <tbody>\n",
       "    <tr>\n",
       "      <th>1452</th>\n",
       "      <td>2008-01-01 00:00:00</td>\n",
       "      <td>2008-01-01 00:00:00</td>\n",
       "      <td>TMP</td>\n",
       "      <td>surface</td>\n",
       "      <td>-20</td>\n",
       "      <td>23</td>\n",
       "      <td>294.600</td>\n",
       "      <td>333095.0</td>\n",
       "    </tr>\n",
       "    <tr>\n",
       "      <th>1453</th>\n",
       "      <td>2008-01-01 00:00:00</td>\n",
       "      <td>2008-01-01 00:00:00</td>\n",
       "      <td>TMP</td>\n",
       "      <td>surface</td>\n",
       "      <td>-19</td>\n",
       "      <td>23</td>\n",
       "      <td>294.000</td>\n",
       "      <td>333095.0</td>\n",
       "    </tr>\n",
       "    <tr>\n",
       "      <th>1454</th>\n",
       "      <td>2008-01-01 00:00:00</td>\n",
       "      <td>2008-01-01 00:00:00</td>\n",
       "      <td>TMP</td>\n",
       "      <td>surface</td>\n",
       "      <td>-18</td>\n",
       "      <td>23</td>\n",
       "      <td>293.200</td>\n",
       "      <td>333095.0</td>\n",
       "    </tr>\n",
       "    <tr>\n",
       "      <th>1455</th>\n",
       "      <td>2008-01-01 00:00:00</td>\n",
       "      <td>2008-01-01 00:00:00</td>\n",
       "      <td>TMP</td>\n",
       "      <td>surface</td>\n",
       "      <td>-17</td>\n",
       "      <td>23</td>\n",
       "      <td>292.500</td>\n",
       "      <td>333095.0</td>\n",
       "    </tr>\n",
       "    <tr>\n",
       "      <th>1456</th>\n",
       "      <td>2008-01-01 00:00:00</td>\n",
       "      <td>2008-01-01 00:00:00</td>\n",
       "      <td>TMP</td>\n",
       "      <td>surface</td>\n",
       "      <td>-16</td>\n",
       "      <td>23</td>\n",
       "      <td>288.100</td>\n",
       "      <td>333095.0</td>\n",
       "    </tr>\n",
       "    <tr>\n",
       "      <th>...</th>\n",
       "      <td>...</td>\n",
       "      <td>...</td>\n",
       "      <td>...</td>\n",
       "      <td>...</td>\n",
       "      <td>...</td>\n",
       "      <td>...</td>\n",
       "      <td>...</td>\n",
       "      <td>...</td>\n",
       "    </tr>\n",
       "    <tr>\n",
       "      <th>13910137</th>\n",
       "      <td>2021-03-25 00:00:00</td>\n",
       "      <td>2021-03-25 00:00:00</td>\n",
       "      <td>TMP</td>\n",
       "      <td>surface</td>\n",
       "      <td>-14</td>\n",
       "      <td>33</td>\n",
       "      <td>290.542</td>\n",
       "      <td>449063.0</td>\n",
       "    </tr>\n",
       "    <tr>\n",
       "      <th>13910138</th>\n",
       "      <td>2021-03-25 00:00:00</td>\n",
       "      <td>2021-03-25 00:00:00</td>\n",
       "      <td>TMP</td>\n",
       "      <td>surface</td>\n",
       "      <td>-13</td>\n",
       "      <td>33</td>\n",
       "      <td>290.242</td>\n",
       "      <td>449063.0</td>\n",
       "    </tr>\n",
       "    <tr>\n",
       "      <th>13910139</th>\n",
       "      <td>2021-03-25 00:00:00</td>\n",
       "      <td>2021-03-25 00:00:00</td>\n",
       "      <td>TMP</td>\n",
       "      <td>surface</td>\n",
       "      <td>-12</td>\n",
       "      <td>33</td>\n",
       "      <td>290.242</td>\n",
       "      <td>449063.0</td>\n",
       "    </tr>\n",
       "    <tr>\n",
       "      <th>13910140</th>\n",
       "      <td>2021-03-25 00:00:00</td>\n",
       "      <td>2021-03-25 00:00:00</td>\n",
       "      <td>TMP</td>\n",
       "      <td>surface</td>\n",
       "      <td>-11</td>\n",
       "      <td>33</td>\n",
       "      <td>290.142</td>\n",
       "      <td>449063.0</td>\n",
       "    </tr>\n",
       "    <tr>\n",
       "      <th>13910141</th>\n",
       "      <td>2021-03-25 00:00:00</td>\n",
       "      <td>2021-03-25 00:00:00</td>\n",
       "      <td>TMP</td>\n",
       "      <td>surface</td>\n",
       "      <td>-10</td>\n",
       "      <td>33</td>\n",
       "      <td>290.042</td>\n",
       "      <td>449063.0</td>\n",
       "    </tr>\n",
       "  </tbody>\n",
       "</table>\n",
       "<p>584672 rows × 8 columns</p>\n",
       "</div>"
      ],
      "text/plain": [
       "                        Time1                Time2 Para      Alt  Lon  Lat  \\\n",
       "1452      2008-01-01 00:00:00  2008-01-01 00:00:00  TMP  surface  -20   23   \n",
       "1453      2008-01-01 00:00:00  2008-01-01 00:00:00  TMP  surface  -19   23   \n",
       "1454      2008-01-01 00:00:00  2008-01-01 00:00:00  TMP  surface  -18   23   \n",
       "1455      2008-01-01 00:00:00  2008-01-01 00:00:00  TMP  surface  -17   23   \n",
       "1456      2008-01-01 00:00:00  2008-01-01 00:00:00  TMP  surface  -16   23   \n",
       "...                       ...                  ...  ...      ...  ...  ...   \n",
       "13910137  2021-03-25 00:00:00  2021-03-25 00:00:00  TMP  surface  -14   33   \n",
       "13910138  2021-03-25 00:00:00  2021-03-25 00:00:00  TMP  surface  -13   33   \n",
       "13910139  2021-03-25 00:00:00  2021-03-25 00:00:00  TMP  surface  -12   33   \n",
       "13910140  2021-03-25 00:00:00  2021-03-25 00:00:00  TMP  surface  -11   33   \n",
       "13910141  2021-03-25 00:00:00  2021-03-25 00:00:00  TMP  surface  -10   33   \n",
       "\n",
       "              Val   Houridx  \n",
       "1452      294.600  333095.0  \n",
       "1453      294.000  333095.0  \n",
       "1454      293.200  333095.0  \n",
       "1455      292.500  333095.0  \n",
       "1456      288.100  333095.0  \n",
       "...           ...       ...  \n",
       "13910137  290.542  449063.0  \n",
       "13910138  290.242  449063.0  \n",
       "13910139  290.242  449063.0  \n",
       "13910140  290.142  449063.0  \n",
       "13910141  290.042  449063.0  \n",
       "\n",
       "[584672 rows x 8 columns]"
      ]
     },
     "execution_count": 10,
     "metadata": {},
     "output_type": "execute_result"
    }
   ],
   "source": [
    "df_grid = dsh.get_grid_data('TMP', 'surface')\n",
    "df_grid\n"
   ]
  },
  {
   "cell_type": "markdown",
   "id": "small-feelings",
   "metadata": {},
   "source": [
    "Select only a part of the grid for the PINSS"
   ]
  },
  {
   "cell_type": "code",
   "execution_count": 11,
   "id": "opened-cleanup",
   "metadata": {
    "ExecuteTime": {
     "end_time": "2021-10-15T08:57:01.816958Z",
     "start_time": "2021-10-15T08:57:01.782170Z"
    }
   },
   "outputs": [
    {
     "name": "stdout",
     "output_type": "stream",
     "text": [
      "Lon list: [-18.0, -17.0, -16.0, -15.0, -14.0]\n",
      "Lat list: [27.0, 28.0, 29.0, 30.0, 31.0]\n"
     ]
    }
   ],
   "source": [
    "# Number of grid points on one side of the center\n",
    "N_ONE_SIDE = 2\n",
    "\n",
    "# The center point\n",
    "LON_0 = -16.0\n",
    "LAT_0 = 29.0\n",
    "\n",
    "lon_list = [LON_0]\n",
    "lat_list = [LAT_0]\n",
    "\n",
    "for i in range(1, N_ONE_SIDE + 1):\n",
    "    lon_list += [LON_0 - i, LON_0 + i]\n",
    "    lat_list += [LAT_0 - i, LAT_0 + i]\n",
    "    \n",
    "lon_list.sort()\n",
    "lat_list.sort()\n",
    "print(f'Lon list: {lon_list}')\n",
    "print(f'Lat list: {lat_list}')"
   ]
  },
  {
   "cell_type": "code",
   "execution_count": 12,
   "id": "nutritional-mustang",
   "metadata": {
    "ExecuteTime": {
     "end_time": "2021-10-15T08:57:03.638640Z",
     "start_time": "2021-10-15T08:57:03.564682Z"
    }
   },
   "outputs": [
    {
     "data": {
      "text/html": [
       "<div>\n",
       "<style scoped>\n",
       "    .dataframe tbody tr th:only-of-type {\n",
       "        vertical-align: middle;\n",
       "    }\n",
       "\n",
       "    .dataframe tbody tr th {\n",
       "        vertical-align: top;\n",
       "    }\n",
       "\n",
       "    .dataframe thead th {\n",
       "        text-align: right;\n",
       "    }\n",
       "</style>\n",
       "<table border=\"1\" class=\"dataframe\">\n",
       "  <thead>\n",
       "    <tr style=\"text-align: right;\">\n",
       "      <th></th>\n",
       "      <th>Time1</th>\n",
       "      <th>Time2</th>\n",
       "      <th>Para</th>\n",
       "      <th>Alt</th>\n",
       "      <th>Lon</th>\n",
       "      <th>Lat</th>\n",
       "      <th>Val</th>\n",
       "      <th>Houridx</th>\n",
       "    </tr>\n",
       "  </thead>\n",
       "  <tbody>\n",
       "    <tr>\n",
       "      <th>1498</th>\n",
       "      <td>2008-01-01 00:00:00</td>\n",
       "      <td>2008-01-01 00:00:00</td>\n",
       "      <td>TMP</td>\n",
       "      <td>surface</td>\n",
       "      <td>-18</td>\n",
       "      <td>27</td>\n",
       "      <td>294.200</td>\n",
       "      <td>333095.0</td>\n",
       "    </tr>\n",
       "    <tr>\n",
       "      <th>1499</th>\n",
       "      <td>2008-01-01 00:00:00</td>\n",
       "      <td>2008-01-01 00:00:00</td>\n",
       "      <td>TMP</td>\n",
       "      <td>surface</td>\n",
       "      <td>-17</td>\n",
       "      <td>27</td>\n",
       "      <td>293.900</td>\n",
       "      <td>333095.0</td>\n",
       "    </tr>\n",
       "    <tr>\n",
       "      <th>1500</th>\n",
       "      <td>2008-01-01 00:00:00</td>\n",
       "      <td>2008-01-01 00:00:00</td>\n",
       "      <td>TMP</td>\n",
       "      <td>surface</td>\n",
       "      <td>-16</td>\n",
       "      <td>27</td>\n",
       "      <td>293.500</td>\n",
       "      <td>333095.0</td>\n",
       "    </tr>\n",
       "    <tr>\n",
       "      <th>1501</th>\n",
       "      <td>2008-01-01 00:00:00</td>\n",
       "      <td>2008-01-01 00:00:00</td>\n",
       "      <td>TMP</td>\n",
       "      <td>surface</td>\n",
       "      <td>-15</td>\n",
       "      <td>27</td>\n",
       "      <td>293.000</td>\n",
       "      <td>333095.0</td>\n",
       "    </tr>\n",
       "    <tr>\n",
       "      <th>1502</th>\n",
       "      <td>2008-01-01 00:00:00</td>\n",
       "      <td>2008-01-01 00:00:00</td>\n",
       "      <td>TMP</td>\n",
       "      <td>surface</td>\n",
       "      <td>-14</td>\n",
       "      <td>27</td>\n",
       "      <td>292.800</td>\n",
       "      <td>333095.0</td>\n",
       "    </tr>\n",
       "    <tr>\n",
       "      <th>...</th>\n",
       "      <td>...</td>\n",
       "      <td>...</td>\n",
       "      <td>...</td>\n",
       "      <td>...</td>\n",
       "      <td>...</td>\n",
       "      <td>...</td>\n",
       "      <td>...</td>\n",
       "      <td>...</td>\n",
       "    </tr>\n",
       "    <tr>\n",
       "      <th>13910111</th>\n",
       "      <td>2021-03-25 00:00:00</td>\n",
       "      <td>2021-03-25 00:00:00</td>\n",
       "      <td>TMP</td>\n",
       "      <td>surface</td>\n",
       "      <td>-18</td>\n",
       "      <td>31</td>\n",
       "      <td>291.642</td>\n",
       "      <td>449063.0</td>\n",
       "    </tr>\n",
       "    <tr>\n",
       "      <th>13910112</th>\n",
       "      <td>2021-03-25 00:00:00</td>\n",
       "      <td>2021-03-25 00:00:00</td>\n",
       "      <td>TMP</td>\n",
       "      <td>surface</td>\n",
       "      <td>-17</td>\n",
       "      <td>31</td>\n",
       "      <td>291.242</td>\n",
       "      <td>449063.0</td>\n",
       "    </tr>\n",
       "    <tr>\n",
       "      <th>13910113</th>\n",
       "      <td>2021-03-25 00:00:00</td>\n",
       "      <td>2021-03-25 00:00:00</td>\n",
       "      <td>TMP</td>\n",
       "      <td>surface</td>\n",
       "      <td>-16</td>\n",
       "      <td>31</td>\n",
       "      <td>290.842</td>\n",
       "      <td>449063.0</td>\n",
       "    </tr>\n",
       "    <tr>\n",
       "      <th>13910114</th>\n",
       "      <td>2021-03-25 00:00:00</td>\n",
       "      <td>2021-03-25 00:00:00</td>\n",
       "      <td>TMP</td>\n",
       "      <td>surface</td>\n",
       "      <td>-15</td>\n",
       "      <td>31</td>\n",
       "      <td>290.842</td>\n",
       "      <td>449063.0</td>\n",
       "    </tr>\n",
       "    <tr>\n",
       "      <th>13910115</th>\n",
       "      <td>2021-03-25 00:00:00</td>\n",
       "      <td>2021-03-25 00:00:00</td>\n",
       "      <td>TMP</td>\n",
       "      <td>surface</td>\n",
       "      <td>-14</td>\n",
       "      <td>31</td>\n",
       "      <td>290.842</td>\n",
       "      <td>449063.0</td>\n",
       "    </tr>\n",
       "  </tbody>\n",
       "</table>\n",
       "<p>120800 rows × 8 columns</p>\n",
       "</div>"
      ],
      "text/plain": [
       "                        Time1                Time2 Para      Alt  Lon  Lat  \\\n",
       "1498      2008-01-01 00:00:00  2008-01-01 00:00:00  TMP  surface  -18   27   \n",
       "1499      2008-01-01 00:00:00  2008-01-01 00:00:00  TMP  surface  -17   27   \n",
       "1500      2008-01-01 00:00:00  2008-01-01 00:00:00  TMP  surface  -16   27   \n",
       "1501      2008-01-01 00:00:00  2008-01-01 00:00:00  TMP  surface  -15   27   \n",
       "1502      2008-01-01 00:00:00  2008-01-01 00:00:00  TMP  surface  -14   27   \n",
       "...                       ...                  ...  ...      ...  ...  ...   \n",
       "13910111  2021-03-25 00:00:00  2021-03-25 00:00:00  TMP  surface  -18   31   \n",
       "13910112  2021-03-25 00:00:00  2021-03-25 00:00:00  TMP  surface  -17   31   \n",
       "13910113  2021-03-25 00:00:00  2021-03-25 00:00:00  TMP  surface  -16   31   \n",
       "13910114  2021-03-25 00:00:00  2021-03-25 00:00:00  TMP  surface  -15   31   \n",
       "13910115  2021-03-25 00:00:00  2021-03-25 00:00:00  TMP  surface  -14   31   \n",
       "\n",
       "              Val   Houridx  \n",
       "1498      294.200  333095.0  \n",
       "1499      293.900  333095.0  \n",
       "1500      293.500  333095.0  \n",
       "1501      293.000  333095.0  \n",
       "1502      292.800  333095.0  \n",
       "...           ...       ...  \n",
       "13910111  291.642  449063.0  \n",
       "13910112  291.242  449063.0  \n",
       "13910113  290.842  449063.0  \n",
       "13910114  290.842  449063.0  \n",
       "13910115  290.842  449063.0  \n",
       "\n",
       "[120800 rows x 8 columns]"
      ]
     },
     "execution_count": 12,
     "metadata": {},
     "output_type": "execute_result"
    }
   ],
   "source": [
    "# Grap sub-set of the data\n",
    "n_grid = len(lon_list) * len(lat_list)\n",
    "df_grid = df_grid[(df_grid['Lon'].isin(lon_list)) & (df_grid['Lat'].isin(lat_list))]\n",
    "df_grid"
   ]
  },
  {
   "cell_type": "code",
   "execution_count": 13,
   "id": "strong-safety",
   "metadata": {
    "ExecuteTime": {
     "end_time": "2021-10-15T08:57:05.176164Z",
     "start_time": "2021-10-15T08:57:05.146493Z"
    }
   },
   "outputs": [
    {
     "name": "stdout",
     "output_type": "stream",
     "text": [
      "Number of data points: 120800\n"
     ]
    }
   ],
   "source": [
    "# shift and normlize the time for 10 years\n",
    "SHIFT_YEAR = 10.0\n",
    "\n",
    "# Time in Year\n",
    "time_array = df_grid['Houridx'].to_numpy().copy()/24.0/365.0\n",
    "# Shift the time, so the data starts from 0\n",
    "time_array -= time_array[0]\n",
    "\n",
    "# Normlize the time data\n",
    "time_array = (time_array - SHIFT_YEAR)/SHIFT_YEAR\n",
    "\n",
    "# Temperature in K\n",
    "temperature_array = df_grid['Val'].to_numpy().copy()\n",
    "n_total = time_array.shape[0]\n",
    "print(f'Number of data points: {n_total}')"
   ]
  },
  {
   "cell_type": "code",
   "execution_count": 14,
   "id": "silver-stockholm",
   "metadata": {
    "ExecuteTime": {
     "end_time": "2021-10-15T08:57:07.074274Z",
     "start_time": "2021-10-15T08:57:07.035496Z"
    }
   },
   "outputs": [],
   "source": [
    "# Normalize the lon/lat data\n",
    "lon_array = (df_grid['Lon'].to_numpy().copy() - LON_0)/float(N_ONE_SIDE)\n",
    "lat_array = (df_grid['Lat'].to_numpy().copy() - LAT_0)/float(N_ONE_SIDE)"
   ]
  },
  {
   "cell_type": "code",
   "execution_count": 15,
   "id": "signal-circulation",
   "metadata": {
    "ExecuteTime": {
     "end_time": "2021-10-15T08:57:08.406347Z",
     "start_time": "2021-10-15T08:57:08.372763Z"
    }
   },
   "outputs": [
    {
     "name": "stdout",
     "output_type": "stream",
     "text": [
      "The mean temperature is 294.1563100165563\n"
     ]
    }
   ],
   "source": [
    "# Remove mean temperature\n",
    "\n",
    "MEAN_TEMP = np.mean(temperature_array)\n",
    "\n",
    "print(f'The mean temperature is {MEAN_TEMP}')\n",
    "\n",
    "temperature_array -= MEAN_TEMP"
   ]
  },
  {
   "cell_type": "code",
   "execution_count": null,
   "id": "permanent-barrel",
   "metadata": {},
   "outputs": [],
   "source": []
  },
  {
   "cell_type": "code",
   "execution_count": 16,
   "id": "secure-deviation",
   "metadata": {
    "ExecuteTime": {
     "end_time": "2021-10-15T08:57:09.827506Z",
     "start_time": "2021-10-15T08:57:09.798559Z"
    }
   },
   "outputs": [
    {
     "data": {
      "text/plain": [
       "array([[-1.        , -1.        , -1.        ],\n",
       "       [-1.        , -0.5       , -1.        ],\n",
       "       [-1.        ,  0.        , -1.        ],\n",
       "       ...,\n",
       "       [ 0.32383562,  0.        ,  1.        ],\n",
       "       [ 0.32383562,  0.5       ,  1.        ],\n",
       "       [ 0.32383562,  1.        ,  1.        ]])"
      ]
     },
     "execution_count": 16,
     "metadata": {},
     "output_type": "execute_result"
    }
   ],
   "source": [
    "# The input will be [time, lon, lat]\n",
    "X_arg = np.concatenate( [time_array.reshape(-1, 1), lon_array.reshape(-1, 1), lat_array.reshape(-1, 1)], axis=1)\n",
    "X_arg"
   ]
  },
  {
   "cell_type": "code",
   "execution_count": null,
   "id": "apparent-shakespeare",
   "metadata": {},
   "outputs": [],
   "source": []
  },
  {
   "cell_type": "code",
   "execution_count": 17,
   "id": "rational-mexico",
   "metadata": {
    "ExecuteTime": {
     "end_time": "2021-10-15T08:57:11.429127Z",
     "start_time": "2021-10-15T08:57:11.394672Z"
    }
   },
   "outputs": [],
   "source": [
    "# Use the first n_year data for training\n",
    "N_YEAR_TRAIN = 10.0\n",
    "n_train = int(365*N_YEAR_TRAIN*n_grid)"
   ]
  },
  {
   "cell_type": "code",
   "execution_count": 18,
   "id": "seventh-gabriel",
   "metadata": {
    "ExecuteTime": {
     "end_time": "2021-10-15T08:57:12.777350Z",
     "start_time": "2021-10-15T08:57:12.722458Z"
    }
   },
   "outputs": [],
   "source": [
    "X_train = torch.tensor( X_arg[:n_train, :], dtype=torch.float32, requires_grad=True)\n",
    "Y_train = torch.tensor(temperature_array[:n_train].reshape((-1, 1)), dtype=torch.float32)\n"
   ]
  },
  {
   "cell_type": "code",
   "execution_count": null,
   "id": "technological-relations",
   "metadata": {},
   "outputs": [],
   "source": [
    "X_train.shape"
   ]
  },
  {
   "cell_type": "code",
   "execution_count": null,
   "id": "relevant-safety",
   "metadata": {},
   "outputs": [],
   "source": [
    "Y_train.shape"
   ]
  },
  {
   "cell_type": "code",
   "execution_count": null,
   "id": "frequent-return",
   "metadata": {},
   "outputs": [],
   "source": []
  },
  {
   "cell_type": "code",
   "execution_count": null,
   "id": "alpine-wallace",
   "metadata": {},
   "outputs": [],
   "source": [
    "n_input = X_train.shape[1]\n",
    "n_input"
   ]
  },
  {
   "cell_type": "code",
   "execution_count": null,
   "id": "unnecessary-method",
   "metadata": {},
   "outputs": [],
   "source": []
  },
  {
   "cell_type": "markdown",
   "id": "finite-visibility",
   "metadata": {},
   "source": [
    "## Configuration of DeepMoD"
   ]
  },
  {
   "cell_type": "code",
   "execution_count": 19,
   "id": "minor-burke",
   "metadata": {
    "ExecuteTime": {
     "end_time": "2021-10-15T08:57:14.623969Z",
     "start_time": "2021-10-15T08:57:14.597022Z"
    }
   },
   "outputs": [],
   "source": [
    "# The period used for the NNs\n",
    "P_LIST_NN = np.array([1.0/12.0, 2.0/12.0, 0.25, 4.0/12.0, 5.0/12.0, 0.5, 0.75, 1.0, 1.25, 1.5, 2.0, 2.5, 3.0, 4.0, 5.0])/SHIFT_YEAR\n",
    "\n",
    "# The period used for the elements library\n",
    "P_LIST_DE = np.array([1.0/12.0, 2.0/12.0, 0.25, 4.0/12.0, 5.0/12.0, 0.5, 0.75, 1.0, 1.25, 1.5, 2.0, 2.5, 3.0, 4.0, 5.0])/SHIFT_YEAR\n"
   ]
  },
  {
   "cell_type": "code",
   "execution_count": 20,
   "id": "c8ab05bf-fae5-480c-8205-aed514112280",
   "metadata": {
    "ExecuteTime": {
     "end_time": "2021-10-15T08:57:16.037591Z",
     "start_time": "2021-10-15T08:57:16.003224Z"
    }
   },
   "outputs": [],
   "source": [
    "# Order of polynomial components in the NNs\n",
    "PN = 3"
   ]
  },
  {
   "cell_type": "code",
   "execution_count": 22,
   "id": "several-italic",
   "metadata": {
    "ExecuteTime": {
     "end_time": "2021-10-15T08:57:24.736198Z",
     "start_time": "2021-10-15T08:57:24.710292Z"
    }
   },
   "outputs": [],
   "source": [
    "# The NNs model\n",
    "network = wwf.SCNN(3, [50, 50, 50, 50, 50], 1, P_LIST_NN, pn=PN)"
   ]
  },
  {
   "cell_type": "code",
   "execution_count": 23,
   "id": "familiar-mother",
   "metadata": {
    "ExecuteTime": {
     "end_time": "2021-10-15T08:57:28.359454Z",
     "start_time": "2021-10-15T08:57:28.326827Z"
    }
   },
   "outputs": [],
   "source": [
    "# Customized non-linear library\n",
    "library = wwf.Library_nonlinear(P_LIST_DE)"
   ]
  },
  {
   "cell_type": "markdown",
   "id": "hindu-night",
   "metadata": {},
   "source": [
    "Configuration of the sparsity estimator and sparsity scheduler used. In this case we use the most basic threshold-based Lasso estimator and a scheduler that asseses the validation loss after a given patience. If that value is smaller than 1e-5, the algorithm is converged.  "
   ]
  },
  {
   "cell_type": "code",
   "execution_count": 24,
   "id": "gentle-northeast",
   "metadata": {
    "ExecuteTime": {
     "end_time": "2021-10-15T08:57:30.513251Z",
     "start_time": "2021-10-15T08:57:30.479030Z"
    }
   },
   "outputs": [],
   "source": [
    "estimator = Threshold(0.01)\n",
    "sparsity_scheduler = TrainTestPeriodic(periodicity=50, patience=10, delta=1e-5)"
   ]
  },
  {
   "cell_type": "markdown",
   "id": "killing-avenue",
   "metadata": {},
   "source": [
    "Configuration of the sparsity estimator "
   ]
  },
  {
   "cell_type": "code",
   "execution_count": 25,
   "id": "fallen-locking",
   "metadata": {
    "ExecuteTime": {
     "end_time": "2021-10-15T08:57:32.008454Z",
     "start_time": "2021-10-15T08:57:31.973110Z"
    }
   },
   "outputs": [],
   "source": [
    "constraint = LeastSquares() "
   ]
  },
  {
   "cell_type": "markdown",
   "id": "hidden-donna",
   "metadata": {},
   "source": [
    "Now we instantiate the model and select the optimizer "
   ]
  },
  {
   "cell_type": "code",
   "execution_count": 26,
   "id": "conceptual-cursor",
   "metadata": {
    "ExecuteTime": {
     "end_time": "2021-10-15T08:57:33.504372Z",
     "start_time": "2021-10-15T08:57:33.467189Z"
    }
   },
   "outputs": [],
   "source": [
    "model = DeepMoD(network, library, estimator, constraint)\n",
    "\n",
    "# Defining optimizer\n",
    "optimizer = torch.optim.AdamW(model.parameters(), betas=(0.99, 0.99), amsgrad=True, lr=6e-3, weight_decay=0.0001) \n"
   ]
  },
  {
   "cell_type": "markdown",
   "id": "connected-interaction",
   "metadata": {},
   "source": [
    "## Run DeepMoD "
   ]
  },
  {
   "cell_type": "markdown",
   "id": "invalid-listing",
   "metadata": {},
   "source": [
    "We can now run DeepMoD using all the options we have set and the training data:\n",
    "* The directory where the tensorboard file is written (log_dir)\n",
    "* The ratio of train/test set used (split)\n",
    "* The maximum number of iterations performed (max_iterations)\n",
    "* The absolute change in L1 norm considered converged (delta)\n",
    "* The amount of epochs over which the absolute change in L1 norm is calculated (patience)\n",
    "* The weight factor of Lreg (k_reg) (Added by Jia Wan)"
   ]
  },
  {
   "cell_type": "code",
   "execution_count": 27,
   "id": "friendly-theorem",
   "metadata": {
    "ExecuteTime": {
     "end_time": "2021-10-15T08:57:36.678917Z",
     "start_time": "2021-10-15T08:57:35.323157Z"
    }
   },
   "outputs": [
    {
     "ename": "IndexError",
     "evalue": "tuple index out of range",
     "output_type": "error",
     "traceback": [
      "\u001b[0;31m---------------------------------------------------------------------------\u001b[0m",
      "\u001b[0;31mIndexError\u001b[0m                                Traceback (most recent call last)",
      "\u001b[0;32m/tmp/ipykernel_36584/2001631640.py\u001b[0m in \u001b[0;36m<module>\u001b[0;34m\u001b[0m\n\u001b[0;32m----> 1\u001b[0;31m train(model, X_train, Y_train, optimizer, sparsity_scheduler,\n\u001b[0m\u001b[1;32m      2\u001b[0m       \u001b[0mlog_dir\u001b[0m\u001b[0;34m=\u001b[0m\u001b[0;34m'runs/C12/'\u001b[0m\u001b[0;34m,\u001b[0m \u001b[0msplit\u001b[0m\u001b[0;34m=\u001b[0m\u001b[0;36m0.9\u001b[0m\u001b[0;34m,\u001b[0m \u001b[0mmax_iterations\u001b[0m\u001b[0;34m=\u001b[0m\u001b[0;36m100000\u001b[0m\u001b[0;34m,\u001b[0m\u001b[0;34m\u001b[0m\u001b[0;34m\u001b[0m\u001b[0m\n\u001b[1;32m      3\u001b[0m       write_iterations=50, k_reg=0.01, delta=1e-3, patience=100) \n",
      "\u001b[0;32m~/DeepMod/pythonProjectII/DeePyMoD/src/deepymod/training/training.py\u001b[0m in \u001b[0;36mtrain\u001b[0;34m(model, train_dataloader, test_dataloader, optimizer, sparsity_scheduler, split, exp_ID, log_dir, max_iterations, write_iterations, reg_coef, k_mse_loss, **convergence_kwargs)\u001b[0m\n\u001b[1;32m     41\u001b[0m         \u001b[0mlogger\u001b[0m\u001b[0;34m.\u001b[0m\u001b[0mlog_dir\u001b[0m\u001b[0;34m\u001b[0m\u001b[0;34m\u001b[0m\u001b[0m\n\u001b[1;32m     42\u001b[0m     )  # write checkpoint to same folder as tb output.\n\u001b[0;32m---> 43\u001b[0;31m     \u001b[0mn_features\u001b[0m \u001b[0;34m=\u001b[0m \u001b[0mtrain_dataloader\u001b[0m\u001b[0;34m[\u001b[0m\u001b[0;36m0\u001b[0m\u001b[0;34m]\u001b[0m\u001b[0;34m[\u001b[0m\u001b[0;36m1\u001b[0m\u001b[0;34m]\u001b[0m\u001b[0;34m.\u001b[0m\u001b[0mshape\u001b[0m\u001b[0;34m[\u001b[0m\u001b[0;34m-\u001b[0m\u001b[0;36m1\u001b[0m\u001b[0;34m]\u001b[0m\u001b[0;34m\u001b[0m\u001b[0;34m\u001b[0m\u001b[0m\n\u001b[0m\u001b[1;32m     44\u001b[0m     \u001b[0;31m# n_features = model.func_approx.modules()\u001b[0m\u001b[0;34m\u001b[0m\u001b[0;34m\u001b[0m\u001b[0;34m\u001b[0m\u001b[0m\n\u001b[1;32m     45\u001b[0m     \u001b[0;31m# Training\u001b[0m\u001b[0;34m\u001b[0m\u001b[0;34m\u001b[0m\u001b[0;34m\u001b[0m\u001b[0m\n",
      "\u001b[0;31mIndexError\u001b[0m: tuple index out of range"
     ]
    }
   ],
   "source": [
    "train(model, X_train, Y_train, optimizer, sparsity_scheduler,\n",
    "      log_dir='runs/C12/', split=0.9, max_iterations=100000,\n",
    "      write_iterations=50, k_reg=0.01, delta=1e-3, patience=100) "
   ]
  },
  {
   "cell_type": "code",
   "execution_count": null,
   "id": "803f48ee-baaf-4d75-bb2e-1e176f568b66",
   "metadata": {},
   "outputs": [],
   "source": []
  },
  {
   "cell_type": "code",
   "execution_count": null,
   "id": "6a524bc3-a20a-4e72-ada3-b0244c48f5d6",
   "metadata": {},
   "outputs": [],
   "source": []
  },
  {
   "cell_type": "markdown",
   "id": "terminal-scale",
   "metadata": {},
   "source": [
    "Sparsity masks provide the active and non-active terms in the PDE:"
   ]
  },
  {
   "cell_type": "code",
   "execution_count": null,
   "id": "economic-banking",
   "metadata": {},
   "outputs": [],
   "source": [
    "model.sparsity_masks[0]"
   ]
  },
  {
   "cell_type": "markdown",
   "id": "complimentary-warning",
   "metadata": {},
   "source": [
    "estimatior_coeffs gives the magnitude of the active terms:"
   ]
  },
  {
   "cell_type": "code",
   "execution_count": null,
   "id": "periodic-headset",
   "metadata": {},
   "outputs": [],
   "source": [
    "for i in range(model.estimator_coeffs()[0].size):\n",
    "    coef = model.estimator_coeffs()[0][i, 0]\n",
    "    if coef != 0.0:\n",
    "        \n",
    "        print(f'{coef:+5.3f}\\t{model.library.all_ele_name[i]}')"
   ]
  },
  {
   "cell_type": "code",
   "execution_count": null,
   "id": "exempt-canadian",
   "metadata": {},
   "outputs": [],
   "source": [
    "P_LIST_DE*SHIFT_YEAR"
   ]
  },
  {
   "cell_type": "markdown",
   "id": "cd867fbc-03e3-41e0-96af-a6e9932cebcf",
   "metadata": {},
   "source": [
    "Write or load the model"
   ]
  },
  {
   "cell_type": "code",
   "execution_count": null,
   "id": "b33e374b-39b3-436b-8904-8802ba02cabd",
   "metadata": {},
   "outputs": [],
   "source": [
    "with open('output/model.pk', 'wb') as f:\n",
    "    pickle.dump(model, f)liguem-me."
   ]
  },
  {
   "cell_type": "code",
   "execution_count": null,
   "id": "c23726f7-117b-463a-823b-c29c35783579",
   "metadata": {},
   "outputs": [],
   "source": []
  },
  {
   "cell_type": "code",
   "execution_count": null,
   "id": "e23ced5d-aff8-4f64-896a-d3604a17e03c",
   "metadata": {},
   "outputs": [],
   "source": [
    "with open('output/model_best.pk', 'rb') as f:\n",
    "    model = pickle.load(f)"
   ]
  },
  {
   "cell_type": "code",
   "execution_count": null,
   "id": "f83c78b7-1a6a-4761-a4f4-ed768261f3f9",
   "metadata": {},
   "outputs": [],
   "source": []
  },
  {
   "cell_type": "code",
   "execution_count": null,
   "id": "fc4c45f2-4b70-47fe-8f4f-ba923f64ba59",
   "metadata": {},
   "outputs": [],
   "source": []
  },
  {
   "cell_type": "markdown",
   "id": "aerial-teddy",
   "metadata": {},
   "source": [
    "## Plot"
   ]
  },
  {
   "cell_type": "markdown",
   "id": "confirmed-setting",
   "metadata": {},
   "source": [
    "### 1D Plot (T vs time)"
   ]
  },
  {
   "cell_type": "code",
   "execution_count": null,
   "id": "historic-amsterdam",
   "metadata": {},
   "outputs": [],
   "source": [
    "# Calculate T for 30 years\n",
    "in_test = (np.arange(0, 30, 0.01) - SHIFT_YEAR)/SHIFT_YEAR\n",
    "out_test = np.zeros(in_test.shape)"
   ]
  },
  {
   "cell_type": "code",
   "execution_count": null,
   "id": "promotional-implement",
   "metadata": {},
   "outputs": [],
   "source": [
    "# The location\n",
    "lon=-15\n",
    "lat=28\n",
    "\n",
    "lon_bar = (lon - LON_0)/float(N_ONE_SIDE)\n",
    "lat_bar = (lat - LAT_0)/float(N_ONE_SIDE)\n",
    "\n",
    "idx = round(365.0*N_YEAR_TRAIN)\n",
    "\n",
    "for i in range(in_test.shape[0]):\n",
    "    t = in_test[i]\n",
    "    in_data = [[t, lon_bar, lat_bar]]\n",
    "        \n",
    "    out_test[i] = model.func_approx(torch.Tensor(in_data))[0].item()\n",
    "    "
   ]
  },
  {
   "cell_type": "code",
   "execution_count": null,
   "id": "great-worker",
   "metadata": {},
   "outputs": [],
   "source": []
  },
  {
   "cell_type": "code",
   "execution_count": null,
   "id": "commercial-radiation",
   "metadata": {},
   "outputs": [],
   "source": [
    "def get_true_tmp_data(dsh, lon, lat):\n",
    "    \"\"\"Get the tmp data from data set (dsh)\n",
    "    \n",
    "    \"\"\"\n",
    "    df = dsh.get_time_series_data('TMP', lon=lon, lat=lat)\n",
    "    time = df['Houridx'].to_numpy()/24.0/365.0\n",
    "    time -= time[0]\n",
    "    return time, df['Val'].to_numpy() - MEAN_TEMP"
   ]
  },
  {
   "cell_type": "code",
   "execution_count": null,
   "id": "harmful-designation",
   "metadata": {},
   "outputs": [],
   "source": [
    "time, T = get_true_tmp_data(dsh, round(lon), round(lat))"
   ]
  },
  {
   "cell_type": "code",
   "execution_count": null,
   "id": "demographic-textbook",
   "metadata": {},
   "outputs": [],
   "source": [
    "%matplotlib widget"
   ]
  },
  {
   "cell_type": "code",
   "execution_count": null,
   "id": "cf3d8c22-f63b-494b-921e-0ef734eea805",
   "metadata": {},
   "outputs": [],
   "source": [
    "%matplotlib inline"
   ]
  },
  {
   "cell_type": "markdown",
   "id": "2bab5cc0-ee6d-440f-a164-7c364dbc1569",
   "metadata": {},
   "source": [
    "Plot T v.s. t and save the fig."
   ]
  },
  {
   "cell_type": "code",
   "execution_count": null,
   "id": "nominated-general",
   "metadata": {},
   "outputs": [],
   "source": [
    "plt.figure(figsize=(20, 9))\n",
    "plt.plot(in_test*SHIFT_YEAR + 2008 + SHIFT_YEAR, out_test, 'b', label='Model')\n",
    "plt.plot(time[:idx]+2008, T[:idx], '*', label='Train Data')\n",
    "plt.plot(time[idx:]+2008, T[idx:], 'sr', label='Test Data')\n",
    "plt.legend()\n",
    "plt.xlabel('Year')\n",
    "plt.ylabel('dT (K)')\n",
    "plt.grid()\n",
    "plt.savefig('./output/model.jpg')"
   ]
  },
  {
   "cell_type": "markdown",
   "id": "8c2b40e7-c4ba-45e3-82f9-4ed2c2f13511",
   "metadata": {},
   "source": [
    "Calculate the error of model prediction and plot"
   ]
  },
  {
   "cell_type": "code",
   "execution_count": null,
   "id": "smooth-mattress",
   "metadata": {},
   "outputs": [],
   "source": [
    "err_array = np.zeros(time.shape)\n",
    "time_bar = (time - SHIFT_YEAR)/SHIFT_YEAR\n",
    "for i in range(err_array.size):\n",
    "    in_data = [[time_bar[i], lon_bar, lat_bar]]\n",
    "        \n",
    "    err_array[i] = model.func_approx(torch.Tensor(in_data))[0].item() - T[i]"
   ]
  },
  {
   "cell_type": "code",
   "execution_count": null,
   "id": "perceived-preliminary",
   "metadata": {},
   "outputs": [],
   "source": [
    "plt.figure(figsize=(20, 9))\n",
    "plt.plot(time[:idx]+2008, err_array[:idx], '*', label='Train Data')\n",
    "plt.plot(time[idx:]+2008, err_array[idx:], 'sr', label='Test Data')\n",
    "plt.legend()\n",
    "plt.xlabel('Year')\n",
    "plt.ylabel('Error (K)')\n",
    "plt.grid()\n",
    "plt.savefig('./output/error.jpg')"
   ]
  },
  {
   "cell_type": "markdown",
   "id": "064d66f4-64dc-47de-9df1-1cf2145a8af9",
   "metadata": {},
   "source": [
    "Calculate MRSE and MAE values"
   ]
  },
  {
   "cell_type": "code",
   "execution_count": null,
   "id": "1b5e1ce9-0230-4386-b125-bde7b800eae8",
   "metadata": {},
   "outputs": [],
   "source": [
    "mrse_train = math.sqrt(np.mean(np.power(err_array[:idx], 2.0)))"
   ]
  },
  {
   "cell_type": "code",
   "execution_count": null,
   "id": "e0c8a4eb-59b0-472a-9711-dedd8331db1c",
   "metadata": {},
   "outputs": [],
   "source": [
    "mae_train = np.mean(np.abs(err_array[:idx]))"
   ]
  },
  {
   "cell_type": "code",
   "execution_count": null,
   "id": "7b1e0290-1033-4c4d-8adf-0db275b51b6c",
   "metadata": {},
   "outputs": [],
   "source": [
    "mrse_test = math.sqrt(np.mean(np.power(err_array[idx:], 2.0)))"
   ]
  },
  {
   "cell_type": "code",
   "execution_count": null,
   "id": "7efe6b16-a300-4c45-80e8-ce27a2808ad2",
   "metadata": {},
   "outputs": [],
   "source": [
    "mae_test = np.mean(np.abs(err_array[idx:]))"
   ]
  },
  {
   "cell_type": "code",
   "execution_count": null,
   "id": "8b8a6761-7e4d-4bd8-b484-74a56e3fed5b",
   "metadata": {},
   "outputs": [],
   "source": [
    "print(f'MRSE train = {mrse_train:6.3f} \\tMAE train = {mae_train:6.3f}')\n",
    "print(f'MRSE test  = {mrse_test:6.3f} \\tMAE test  = {mae_test:6.3f}')"
   ]
  },
  {
   "cell_type": "code",
   "execution_count": null,
   "id": "62c9d3cb-4377-46b8-b9e8-a65cbe0be1a2",
   "metadata": {},
   "outputs": [],
   "source": []
  },
  {
   "cell_type": "code",
   "execution_count": null,
   "id": "fa6e2b45-0a50-4189-bab0-40c34a984fc0",
   "metadata": {},
   "outputs": [],
   "source": []
  },
  {
   "cell_type": "markdown",
   "id": "placed-bidder",
   "metadata": {},
   "source": [
    "### 2D Plot (Grid data at one time)"
   ]
  },
  {
   "cell_type": "code",
   "execution_count": null,
   "id": "medieval-regard",
   "metadata": {},
   "outputs": [],
   "source": [
    "def get_grid_data(dsh, model, lon_list, lat_list, time_year, prt=False):\n",
    "    \"\"\"Calculate grid T distribution from model and data set\n",
    "    at given time.\n",
    "    \n",
    "    \"\"\"\n",
    "    hidx_array = dsh.df['Houridx'].to_numpy()\n",
    "    hidx_0 = hidx_array[0]\n",
    "    \n",
    "    dh = hidx_array - hidx_0 - time_year*365.0*24.0\n",
    "    \n",
    "    idx = np.argmin(np.abs(dh))\n",
    "    \n",
    "    hidx = hidx_array[idx]\n",
    "    time_year = hidx/24.0/365.0 - hidx_0/24.0/365.0\n",
    "    if prt:\n",
    "        print(hidx, time_year, time_year+2008)\n",
    "    input_data = []\n",
    "    for lon in lon_list:\n",
    "        for lat in lat_list:\n",
    "            lon_bar = (lon - LON_0)/float(N_ONE_SIDE)\n",
    "            lat_bar = (lat - LAT_0)/float(N_ONE_SIDE)\n",
    "            input_data.append([(time_year - SHIFT_YEAR)/SHIFT_YEAR, lon_bar, lat_bar])\n",
    "    \n",
    "    output = model.func_approx(torch.tensor(input_data, dtype=torch.float32))[0].detach().numpy()\n",
    "    \n",
    "    temp = np.concatenate((np.array(input_data), output), axis=1)\n",
    "    \n",
    "    model_df = pd.DataFrame(temp, columns=['Time', 'Lon', 'Lat', 'Val'])\n",
    "    # print(model_df)\n",
    "    # ipdb.set_trace()\n",
    "    \n",
    "    gt_df = dsh.get_grid_data('TMP', time=hidx)\n",
    "    gt_df = gt_df[(gt_df['Lon'].isin(lon_list)) & (gt_df['Lat'].isin(lat_list))]\n",
    "    \n",
    "    model_array = model_df.pivot('Lat', 'Lon', 'Val').to_numpy()\n",
    "    gt_array = gt_df.pivot('Lat', 'Lon', 'Val').to_numpy()\n",
    "    \n",
    "    return model_array, gt_array - MEAN_TEMP\n",
    "            "
   ]
  },
  {
   "cell_type": "code",
   "execution_count": null,
   "id": "periodic-simple",
   "metadata": {},
   "outputs": [],
   "source": [
    "model_array, gt_array = get_grid_data(dsh, model, lon_list, lat_list, 0.416)"
   ]
  },
  {
   "cell_type": "code",
   "execution_count": null,
   "id": "mediterranean-sunday",
   "metadata": {},
   "outputs": [],
   "source": [
    "model_array"
   ]
  },
  {
   "cell_type": "code",
   "execution_count": null,
   "id": "fatty-wonder",
   "metadata": {},
   "outputs": [],
   "source": [
    "gt_array"
   ]
  },
  {
   "cell_type": "code",
   "execution_count": null,
   "id": "successful-honor",
   "metadata": {},
   "outputs": [],
   "source": [
    "%matplotlib inline"
   ]
  },
  {
   "cell_type": "code",
   "execution_count": null,
   "id": "d5195926-4450-480f-8fe1-686140f0a97c",
   "metadata": {},
   "outputs": [],
   "source": [
    "\n",
    "def plot_grid_data(model_array, gt_array, lon_list, lat_list, fig_name=\"grid.jpg\", show_fig=True):\n",
    "    \"\"\"Plot grid T distribution\n",
    "    \n",
    "    \"\"\"\n",
    "    fig, axes = plt.subplots(ncols=3, figsize=(24, 6))\n",
    "\n",
    "    temp = np.concatenate((model_array, gt_array))\n",
    "\n",
    "    vmin = np.min(temp)\n",
    "    vmax = np.max(temp)\n",
    "    levels = np.linspace(vmin,vmax, 8)\n",
    "    levels = np.arange(vmin, vmax+0.2, 0.2)\n",
    "\n",
    "    im0 = axes[0].contourf(lon_list, lat_list, model_array, cmap='coolwarm', vmin=vmin, vmax=vmax, levels=levels)\n",
    "    axes[0].set_xlabel('Lon')\n",
    "    axes[0].set_ylabel('Lat')\n",
    "    axes[0].set_title('Model')\n",
    "    axes[0].grid()\n",
    "    fig.colorbar(im0, ax=axes[0])\n",
    "\n",
    "    im1 = axes[1].contourf(lon_list, lat_list, gt_array, cmap='coolwarm', vmin=vmin, vmax=vmax, levels=levels)\n",
    "    axes[1].set_xlabel('Lon')\n",
    "    axes[1].set_title('Data')\n",
    "    axes[1].grid()\n",
    "    fig.colorbar(im1, ax=axes[1])\n",
    "\n",
    "    im2 = axes[2].contourf(lon_list, lat_list, np.abs(model_array - gt_array), cmap='coolwarm')\n",
    "    axes[2].set_xlabel('Lon')\n",
    "    axes[2].set_ylabel('Lat')\n",
    "    axes[2].set_title('Abs Error')\n",
    "    axes[2].grid()\n",
    "    fig.colorbar(im2, ax=axes[2])\n",
    "\n",
    "    for a in axes:\n",
    "        a.plot(-15.3, 27.9, 'sk')\n",
    "\n",
    "    save_name = './output/' + fig_name\n",
    "    plt.savefig(save_name)\n",
    "    if show_fig:\n",
    "        plt.show()\n",
    "    else:\n",
    "        plt.close()"
   ]
  },
  {
   "cell_type": "code",
   "execution_count": null,
   "id": "380a268d-b67a-41ff-8d4a-688f6e92079d",
   "metadata": {},
   "outputs": [],
   "source": [
    "plot_grid_data(model_array, gt_array, lon_list, lat_list)"
   ]
  },
  {
   "cell_type": "markdown",
   "id": "0b62a81a-8618-4bbf-9503-8c914bc07067",
   "metadata": {},
   "source": [
    "Now run the same calculation for different timestamps and save all the plots"
   ]
  },
  {
   "cell_type": "code",
   "execution_count": null,
   "id": "f59e863c-b942-4b1b-b559-733193061a6f",
   "metadata": {},
   "outputs": [],
   "source": [
    "grid_err_list = []\n",
    "for year in tqdm.tqdm(range(13)):\n",
    "    for month in range(12):\n",
    "        time_y = float(year) + float(month)/12.0\n",
    "        # print(time_y, year+2008, month+1)\n",
    "        fig_name = f'grid_{year+2008}_{month+1:>02d}.jpg'\n",
    "        # print(fig_name)\n",
    "        model_array, gt_array = get_grid_data(dsh, model, lon_list, lat_list, time_y)\n",
    "        \n",
    "        plot_grid_data(model_array, gt_array, lon_list, lat_list, fig_name=fig_name, show_fig=False)\n",
    "        \n",
    "        grid_err_list.append(model_array - gt_array)"
   ]
  },
  {
   "cell_type": "code",
   "execution_count": null,
   "id": "95686d34-639d-46e7-b8e4-26b0d22e7a36",
   "metadata": {},
   "outputs": [],
   "source": []
  },
  {
   "cell_type": "markdown",
   "id": "73692b4f-d6de-4f7c-aa1b-015da5d7049a",
   "metadata": {},
   "source": [
    "### RMSE for grid"
   ]
  },
  {
   "cell_type": "code",
   "execution_count": null,
   "id": "4a93002d-6b55-44c2-be16-aa7fb72ac99b",
   "metadata": {},
   "outputs": [],
   "source": [
    "import math"
   ]
  },
  {
   "cell_type": "markdown",
   "id": "d4a677ea-59d6-40f5-b243-fee54e6df717",
   "metadata": {},
   "source": [
    "Calculate the RMSE for grid data at all timestamps"
   ]
  },
  {
   "cell_type": "code",
   "execution_count": null,
   "id": "9bca0143-32da-43c2-8003-5a67491b204f",
   "metadata": {},
   "outputs": [],
   "source": [
    "grid_err = model.func_approx(torch.Tensor(X_arg))[0].detach().numpy() - temperature_array.reshape((-1, 1))"
   ]
  },
  {
   "cell_type": "code",
   "execution_count": null,
   "id": "3c59f7ea-7157-45f4-ba4b-f6be794045ae",
   "metadata": {},
   "outputs": [],
   "source": [
    "RMSE_grid = np.zeros(time.shape)\n",
    "\n",
    "i = 0\n",
    "while True:\n",
    "    idx0 = i*n_grid\n",
    "    idx1 = (i+1)*n_grid\n",
    "    if idx0 >= grid_err.shape[0]:\n",
    "        break\n",
    "        \n",
    "    RMSE_grid[i] = math.sqrt(np.mean(np.power(grid_err[idx0:idx1], 2.0)))\n",
    "    i += 1"
   ]
  },
  {
   "cell_type": "code",
   "execution_count": null,
   "id": "ab44dfc2-b3de-44ec-954d-76700ef368bb",
   "metadata": {},
   "outputs": [],
   "source": [
    "plt.figure(figsize=(20, 9))\n",
    "plt.plot(time[:idx]+2008, RMSE_grid[:idx], '*', label='Train Data')\n",
    "plt.plot(time[idx:]+2008, RMSE_grid[idx:], 'sr', label='Test Data')\n",
    "plt.legend()\n",
    "plt.xlabel('Year')\n",
    "plt.ylabel('RMSE Grid')\n",
    "plt.grid()"
   ]
  },
  {
   "cell_type": "code",
   "execution_count": null,
   "id": "a90a69f7-5573-4246-9a4e-9b87d4cc8ccc",
   "metadata": {},
   "outputs": [],
   "source": []
  },
  {
   "cell_type": "markdown",
   "id": "1477ec3b-a4c0-4baa-908b-91c638be933d",
   "metadata": {},
   "source": [
    "## Generate Data for TUD"
   ]
  },
  {
   "cell_type": "markdown",
   "id": "c5e37869-9062-42ff-abe0-080c0a655640",
   "metadata": {},
   "source": [
    "### Grid data\n",
    "Generate a txt file with time, location and temperature"
   ]
  },
  {
   "cell_type": "code",
   "execution_count": null,
   "id": "0c853f78-49a4-4b6a-b1a9-ab569a7b7a27",
   "metadata": {},
   "outputs": [],
   "source": [
    "time_year_array = (np.arange(0, 30, 0.01) - SHIFT_YEAR)/SHIFT_YEAR \n",
    "input_data = []\n",
    "raw_data = []\n",
    "for i in range(time_year_array.size):\n",
    "    for lon in lon_list:\n",
    "        for lat in lat_list:\n",
    "            lon_bar = (lon - LON_0)/float(N_ONE_SIDE)\n",
    "            lat_bar = (lat - LAT_0)/float(N_ONE_SIDE)\n",
    "            input_data.append([time_year_array[i], lon_bar, lat_bar])\n",
    "            raw_data.append([time_year_array[i]*SHIFT_YEAR+SHIFT_YEAR, lon, lat])\n",
    "\n",
    "output = model.func_approx(torch.tensor(input_data, dtype=torch.float32))[0].detach().numpy() + MEAN_TEMP"
   ]
  },
  {
   "cell_type": "code",
   "execution_count": null,
   "id": "8db1b3f3-c9e8-433b-9786-fe94744c2061",
   "metadata": {},
   "outputs": [],
   "source": [
    "output = np.concatenate((np.array(raw_data), output), axis=1)\n",
    "output"
   ]
  },
  {
   "cell_type": "code",
   "execution_count": null,
   "id": "d1aea806-b872-458c-bc62-10574a5f3f38",
   "metadata": {},
   "outputs": [],
   "source": [
    "np.savetxt('output/FM_model_data.csv', output, header='time\\tlon\\tlat\\ttemperature', delimiter='\\t')"
   ]
  },
  {
   "cell_type": "code",
   "execution_count": null,
   "id": "127af4a3-0088-4979-975f-d046bbd5cb9f",
   "metadata": {},
   "outputs": [],
   "source": []
  },
  {
   "cell_type": "code",
   "execution_count": null,
   "id": "3d5aca27-92bd-4635-ab48-99782359a358",
   "metadata": {},
   "outputs": [],
   "source": [
    "# Calculate T for 30 years\n",
    "N_YEAR = 30\n",
    "\n",
    "n_point = N_YEAR * 365\n",
    "\n",
    "output = np.zeros((n_point, 2))\n",
    "\n",
    "# The location\n",
    "lon=-15\n",
    "lat=28\n",
    "\n",
    "lon_bar = (lon - LON_0)/float(N_ONE_SIDE)\n",
    "lat_bar = (lat - LAT_0)/float(N_ONE_SIDE)\n",
    "\n",
    "\n",
    "for i in range(n_point):\n",
    "    t_y = float(i)/365.0\n",
    "    t_bar = (t_y - SHIFT_YEAR)/SHIFT_YEAR\n",
    "    in_data = [[t_bar, lon_bar, lat_bar]]\n",
    "    \n",
    "    output[i, 0] = t_y + 2008.0\n",
    "        \n",
    "    output[i, 1] = model.func_approx(torch.Tensor(in_data))[0].item() + MEAN_TEMP\n",
    "    "
   ]
  },
  {
   "cell_type": "code",
   "execution_count": null,
   "id": "b3f29567-4620-4967-9aea-73739e620755",
   "metadata": {},
   "outputs": [],
   "source": [
    "output"
   ]
  },
  {
   "cell_type": "code",
   "execution_count": null,
   "id": "0d2b13d6-1b04-43b7-9e1a-2b95a26337dd",
   "metadata": {},
   "outputs": [],
   "source": [
    "np.savetxt('output/FM_one_point_data.csv', output, header='time\\ttemperature', delimiter='\\t')"
   ]
  },
  {
   "cell_type": "code",
   "execution_count": null,
   "id": "b2cbc436-3b70-4ecb-a8b2-b4b7f82ab7fb",
   "metadata": {},
   "outputs": [],
   "source": []
  },
  {
   "cell_type": "markdown",
   "id": "level-episode",
   "metadata": {},
   "source": [
    "# Notes"
   ]
  },
  {
   "cell_type": "markdown",
   "id": "35d95f71-8191-4cc0-a313-2d4f755f0f41",
   "metadata": {},
   "source": [
    "## Over fitting"
   ]
  },
  {
   "cell_type": "markdown",
   "id": "68d6f9d9-3f16-40bc-a63c-8510dddf0be1",
   "metadata": {},
   "source": [
    "Over fitting was experienced during tuning the model, as shown below. Some methods were used to reduce over fitting:\n",
    "\n",
    "* Data normalization\n",
    "* Play with the weight_decay parameter\n",
    "* Play with the k_reg parameter\n",
    "* Reduce size of NNs\n"
   ]
  },
  {
   "cell_type": "markdown",
   "id": "orange-demand",
   "metadata": {},
   "source": [
    "![plot](./output/model_p2f5g5.jpg)\n"
   ]
  },
  {
   "cell_type": "markdown",
   "id": "caring-accreditation",
   "metadata": {},
   "source": [
    "![plot](./output/model_p1f5g5.jpg)\n"
   ]
  },
  {
   "cell_type": "markdown",
   "id": "336f3d47-7574-4cb9-b3e1-e87badfe6e6f",
   "metadata": {},
   "source": [
    "## Difficulty of fitting data from land\n",
    "\n",
    "With a large area to be modeled, the South-Est part is difficult to fit, which is on land and has higher temperature.\n"
   ]
  },
  {
   "cell_type": "markdown",
   "id": "c2324cc2-ee95-4e15-8690-b42c26e5b766",
   "metadata": {},
   "source": [
    "![plot](./output/grid_p2f5g7y13.jpg)"
   ]
  },
  {
   "cell_type": "markdown",
   "id": "8616da09-028a-4b3c-8f78-3347a0173d29",
   "metadata": {},
   "source": [
    "## k_reg\n",
    "\n",
    "One can play with k_reg to find a good trade-off between MSE and Reg. For example:\n"
   ]
  },
  {
   "cell_type": "markdown",
   "id": "ee5cac5f-fd9a-46a6-a153-1188def8e392",
   "metadata": {},
   "source": [
    "With k_reg=0.001 ->   1050  MSE: 2.16e-01  Reg: 1.83e+01  L1: 2.61e+00  dL1: 9.62e-04\n",
    "\n",
    "With k_reg=0.1 ->   1050  MSE: 3.42e-01  Reg: 7.89e-02  L1: 1.87e+00  dL1: 8.40e-04\n",
    "\n",
    "With k_reg=1.0 ->   2500  MSE: 5.13e-01  Reg: 2.67e-03  L1: 1.63e+00  dL1: 7.82e-05\n"
   ]
  },
  {
   "cell_type": "markdown",
   "id": "ae508aa6-6ffe-4f48-b256-b00eb2fa94e4",
   "metadata": {},
   "source": [
    "## Adding more harmonic term\n",
    "\n",
    "Try more harmonic components, such as:\n",
    "\n",
    "p_list_nn = np.concatenate((np.arange(1.0, 13.0), np.arange(14.0, 25.0, 2.0), np.arange(27.0, 37.0, 3.0), np.array([40, 44, 48, 54, 60])))/12.0/shift_year\n",
    "\n",
    "not helping. training converge very slowly. Large Reg.\n"
   ]
  }
 ],
 "metadata": {
  "kernelspec": {
   "display_name": "Python 3 (ipykernel)",
   "language": "python",
   "name": "python3"
  },
  "language_info": {
   "codemirror_mode": {
    "name": "ipython",
    "version": 3
   },
   "file_extension": ".py",
   "mimetype": "text/x-python",
   "name": "python",
   "nbconvert_exporter": "python",
   "pygments_lexer": "ipython3",
   "version": "3.8.12"
  },
  "toc": {
   "base_numbering": 1,
   "nav_menu": {},
   "number_sections": true,
   "sideBar": true,
   "skip_h1_title": false,
   "title_cell": "Table of Contents",
   "title_sidebar": "Contents",
   "toc_cell": true,
   "toc_position": {},
   "toc_section_display": true,
   "toc_window_display": true
  },
  "toc-autonumbering": true
 },
 "nbformat": 4,
 "nbformat_minor": 5
}
