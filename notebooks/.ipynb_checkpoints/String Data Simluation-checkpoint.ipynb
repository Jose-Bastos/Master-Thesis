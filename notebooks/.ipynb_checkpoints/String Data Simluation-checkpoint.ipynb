{
 "cells": [
  {
   "cell_type": "markdown",
   "id": "4c5d7d04",
   "metadata": {},
   "source": [
    "# Scope of the notebook"
   ]
  },
  {
   "cell_type": "markdown",
   "id": "a817e1de",
   "metadata": {},
   "source": [
    "I want to create data on the analytica solution to an ideal string vibrating between 2 pulleys. THe string also has constant speed v while vibrating. \n",
    "\n",
    "Erik says the analytical solution to the PDE is of the form:"
   ]
  },
  {
   "cell_type": "markdown",
   "id": "3bc48566",
   "metadata": {
    "ExecuteTime": {
     "end_time": "2022-03-23T15:04:14.794310Z",
     "start_time": "2022-03-23T15:04:14.789311Z"
    }
   },
   "source": [
    "$y = \\sum_{n=1}^{N} a_n\\left (sin(k_{{rev}_n}x -w_nt +  + \\psi_n) + (sin(w_nt - k_{{fwrd}_n}x - \\psi_n)  \\right )$"
   ]
  },
  {
   "cell_type": "markdown",
   "id": "a9b75e68",
   "metadata": {},
   "source": [
    "But shouldn't somehting of this form:"
   ]
  },
  {
   "cell_type": "markdown",
   "id": "4f946689",
   "metadata": {},
   "source": [
    "$y = \\sum_{n=1}^{N} a_n\\left (sin(w_nt + k_{{rev}_n}x + \\psi_n) + (sin(w_nt - k_{{fwrd}_n}x - \\psi_n)  \\right )$"
   ]
  },
  {
   "cell_type": "markdown",
   "id": "c0b9bfe6",
   "metadata": {},
   "source": [
    "And still don't understand where this phase comes from! I would understand it was to convert cos --> sin in one of them, but both have them so I don't get it. DO THE SUBSTITUTION YOURSELF BY HAND! "
   ]
  },
  {
   "cell_type": "markdown",
   "id": "d32a9edc",
   "metadata": {},
   "source": [
    "# Imports"
   ]
  },
  {
   "cell_type": "code",
   "execution_count": 1,
   "id": "cce88846",
   "metadata": {
    "ExecuteTime": {
     "end_time": "2022-05-25T08:16:27.827701Z",
     "start_time": "2022-05-25T08:16:25.201944Z"
    }
   },
   "outputs": [
    {
     "name": "stdout",
     "output_type": "stream",
     "text": [
      "The total number of GPUs is: 2\n",
      "GPU number 0 is NVIDIA GeForce GTX 1080 Ti\n",
      "GPU number 1 is NVIDIA GeForce GTX 1080 Ti\n",
      "Device is: cuda\n"
     ]
    }
   ],
   "source": [
    "%load_ext autoreload\n",
    "%autoreload 2\n",
    "\n",
    "import numpy as np\n",
    "import math\n",
    "import seaborn as sns\n",
    "import matplotlib\n",
    "import matplotlib.pyplot as plt\n",
    "import matplotlib.animation as animation\n",
    "from matplotlib.animation import FuncAnimation\n",
    "import torch\n",
    "import os\n",
    "import random\n",
    "from pytorch_lightning import LightningModule, Trainer\n",
    "from pytorch_lightning.callbacks import LearningRateMonitor,TQDMProgressBar,EarlyStopping\n",
    "from neptune.new.integrations.pytorch_lightning import NeptuneLogger\n",
    "from torch.utils.data import Dataset, DataLoader\n",
    "from sklearn.model_selection import train_test_split\n",
    "\n",
    "\n",
    "random.seed(42)\n",
    "#np.random.seed(42)\n",
    "\n",
    "def gpu_prints():\n",
    "    print(\"The total number of GPUs is:\",torch.cuda.device_count())\n",
    "    for i in range(torch.cuda.device_count()):\n",
    "        print(\"GPU number\",i,\"is\",torch.cuda.get_device_name(i))\n",
    "        \n",
    "gpu_prints()\n",
    "\n",
    "\n",
    "\n",
    "if torch.cuda.is_available():\n",
    "    device = \"cuda\"\n",
    "else:\n",
    "    device = \"cpu\"\n",
    "\n",
    "#device will be cpu for now, changes are required to make code cuda compatible\n",
    "#device=\"cpu\"\n",
    "print(\"Device is:\",device)"
   ]
  },
  {
   "cell_type": "markdown",
   "id": "4ca7cb1f",
   "metadata": {},
   "source": [
    "# Generating data"
   ]
  },
  {
   "cell_type": "code",
   "execution_count": 16,
   "id": "03467511",
   "metadata": {
    "ExecuteTime": {
     "end_time": "2022-05-25T12:08:31.620393Z",
     "start_time": "2022-05-25T12:08:31.554122Z"
    }
   },
   "outputs": [],
   "source": [
    "def data_generation(c,v_fraction,modes,noise_level,save_GIF=True,save_arrays=True,scaled=False):\n",
    "    \n",
    "    v         = c * v_fraction\n",
    "    final_T   = 10\n",
    "    L         = 1\n",
    "    k1  = 0.8\n",
    "    k2  = 0.8\n",
    "    v_new = k2*v\n",
    "    c_new = np.sqrt(k1*(c**2-v**2) + k2**2*v**2)\n",
    "    \n",
    "    def random_coefs_generator(modes):\n",
    "        \"\"\"\n",
    "        generating an array of n coeficients, each smaller than the previous\n",
    "        \"\"\"\n",
    "        A = np.zeros(modes)\n",
    "        for i in range(modes):\n",
    "            random = np.random.rand()\n",
    "            if i == 0:\n",
    "                A[i] = random\n",
    "            else:\n",
    "                while random > A[i-1]:\n",
    "                    random = np.random.rand()\n",
    "                A[i] = random\n",
    "        return A\n",
    "    \n",
    "    A         = random_coefs_generator(modes)\n",
    "    eps       = 1e-10\n",
    "    \n",
    "    #A = [0.39,0.26]\n",
    "    #filename to save the GIF and the arrays\n",
    "    string_coefs = \"\"\n",
    "    for elem in A:\n",
    "        string_coefs += f\"{elem:.2f}_\"\n",
    "    \n",
    "    #spatial domain\n",
    "    dx = 0.005\n",
    "    x  = np.arange(0,1+dx,dx)\n",
    "    print(f\"Lenght of x is:{len(x)}\")\n",
    "          \n",
    "    \n",
    "    #time domain\n",
    "    nr_t = 1000\n",
    "    T  = np.linspace(0,final_T,nr_t)\n",
    "    print(f\"Lenght of t is:{len(T)}\")\n",
    "          \n",
    "    filename  = f\"c={c}_v={v_fraction}c_noise={noise_level}_modes=\" + string_coefs + f\"t_final={final_T}_nr={nr_t}\"\n",
    "    print(\"Filename is:\",filename)\n",
    "    \n",
    "    \n",
    "    #auxiliary arrays\n",
    "    omega = np.zeros(modes)\n",
    "    k_rev = np.zeros(modes)\n",
    "    k_fwd = np.zeros(modes)\n",
    "    phi   = np.zeros(modes)\n",
    "    A_normalized =  np.zeros(modes)\n",
    "    U = np.zeros((len(T),len(x)))\n",
    "    \n",
    "    if scaled:\n",
    "        omega_new = np.zeros(modes)\n",
    "        k_rev_new = np.zeros(modes)\n",
    "        k_fwd_new = np.zeros(modes)\n",
    "        phi_new   = np.zeros(modes)\n",
    "        A_normalized_new =  np.zeros(modes)\n",
    "        U_new = np.zeros((len(T),len(x)))\n",
    "    #time and space independent variables, only node dependent                 \n",
    "    for n in range(modes):\n",
    "        omega[n]        = (n+1) * np.pi * L * (c**2 - v**2)/c\n",
    "        k_rev[n]        = (n+1) * np.pi * L * (c + v)/c\n",
    "        k_fwd[n]        = (n+1) * np.pi * L * (c - v)/c\n",
    "        phi[n]          =-(n+1) * (np.pi * (c+v)/(2*c)-np.pi/2)\n",
    "        #aux             = np.sin(k_rev[n] * x + phi[n]) + np.sin(k_fwd[n] * x - phi[n])\n",
    "        #A_normalized[n] = A[n]/ (np.max(aux)+eps)\n",
    "        \n",
    "        if scaled:\n",
    "            omega_new[n]        = (n+1) * np.pi * L * (c_new**2 - v_new**2)/c_new\n",
    "            k_rev_new[n]        = (n+1) * np.pi * L * (c_new + v_new)/c_new\n",
    "            k_fwd_new[n]        = (n+1) * np.pi * L * (c_new - v_new)/c_new\n",
    "            phi_new[n]          =-(n+1) * (np.pi * (c_new+v_new)/(2*c_new)-np.pi/2)\n",
    "            aux_new             = np.sin(k_rev_new[n] * x + phi_new[n]) + np.sin(k_fwd_new[n] * x - phi_new[n])\n",
    "            #A_normalized_new[n] = A[n]/ (np.max(aux)+eps)\n",
    "        \n",
    "    #time evolution\n",
    "    for b,t in enumerate(T):\n",
    "        U_fwd = np.zeros(len(x))\n",
    "        U_rev = np.zeros(len(x))\n",
    "        if scaled:\n",
    "            U_fwd_new = np.zeros(len(x))\n",
    "            U_rev_new = np.zeros(len(x))\n",
    "        for n in range(modes):\n",
    "            U_fwd += A[n] * np.sin(k_fwd[n]*x - omega[n]*t - phi[n])\n",
    "            U_rev += A[n] * np.sin(k_rev[n]*x + omega[n]*t + phi[n])\n",
    "            if scaled:\n",
    "                U_fwd_new += A[n] * np.sin(k_fwd_new[n]*x - omega_new[n]*t - phi_new[n])\n",
    "                U_rev_new += A[n] * np.sin(k_rev_new[n]*x + omega_new[n]*t + phi_new[n])\n",
    "                \n",
    "        U[b,:] = U_fwd + U_rev + noise_level*np.random.rand(np.size(U_fwd))\n",
    "        if scaled:\n",
    "            U_new[b,:] = U_fwd_new + U_rev_new + noise_level*np.random.rand(np.size(U_fwd_new))\n",
    "\n",
    "    #saving the GIF and the arrays\n",
    "    if save_GIF:\n",
    "        if scaled:\n",
    "            \n",
    "            def init():\n",
    "                for line in lines:\n",
    "                    line.set_data([],[])\n",
    "                return lines\n",
    "            \n",
    "            def update_plot(i,line1,line2):\n",
    "                \n",
    "                line1.set_data(x,U[i,:])\n",
    "                line2.set_data(x,U_new[i,:])\n",
    "                lines = (line1,line2)\n",
    "        \n",
    "                return lines\n",
    "        \n",
    "            fig   = plt.figure(figsize=(15,5))\n",
    "            ax    = plt.axes(xlim=(0,1),ylim=(-3,3))\n",
    "            line, = ax.plot([], [], lw=3)\n",
    "            plt.xlim(0,1)\n",
    "            plt.ylim(-3,3)\n",
    "            plt.xlabel(\"X\")\n",
    "            plt.ylabel(\"Displacement\")\n",
    "            plt.title(f\"Original Wave and wave for k1={k1} and k2={k2}\",fontsize=20)\n",
    "            lines = []\n",
    "            lobj1 = ax.plot([],[],lw=3,label=\"Original\")[0]\n",
    "            lobj2 = ax.plot([],[],lw=3,label=\"Scaled by k1 and k2\")[0]\n",
    "            lines.append(lobj1)\n",
    "            lines.append(lobj2)\n",
    "            plt.legend()\n",
    "\n",
    "            anim = FuncAnimation(fig,\n",
    "                        update_plot,\n",
    "                        init_func=init,\n",
    "                        frames=len(T),\n",
    "                        fargs=(lines),\n",
    "                         blit=True,\n",
    "                        interval=100,\n",
    "                        repeat=True)\n",
    "\n",
    "            plt.legend()\n",
    "            anim.save(f\"gifs/\" +filename+f\"scaled_k1={k1}_k2={k2}\"+ \".gif\",fps=60,writer=\"ffmpeg\")\n",
    "            \n",
    "            \n",
    "        else:\n",
    "            #saving the GIF\n",
    "            print(\"Saving the GIF\")\n",
    "\n",
    "            def update_plot(i,line):\n",
    "\n",
    "                line.set_data(x,U[i,:])\n",
    "                return line\n",
    "\n",
    "            fig = plt.figure(figsize=(15,5))\n",
    "\n",
    "            ax = plt.axes(xlim=(0,1),ylim=(-3,3))\n",
    "            line = plt.plot([],[],lw=3)\n",
    "            plt.xlim(0,1)\n",
    "            plt.ylim(-3,3)\n",
    "            plt.xlabel(\"X\")\n",
    "            plt.ylabel(\"Displacement\")\n",
    "            plt.title(f\"c={c}_v={v_fraction}c_noise={noise_level}_modes={modes}\",fontsize=20)\n",
    "\n",
    "            anim = FuncAnimation(fig,\n",
    "                        update_plot,\n",
    "                        frames=len(T),\n",
    "                         fargs=(line),\n",
    "                         blit=False,\n",
    "                        interval=100,\n",
    "                        repeat=True)\n",
    "\n",
    "\n",
    "            anim.save(f\"gifs/\" + filename + f\".gif\",fps=10,writer=\"ffmpeg\")\n",
    "\n",
    "\n",
    "            print(\"GIF saved\")\n",
    "        \n",
    "    #saving the data arrays into a file, maybe only do it sometime s, because this arrays are small and can be stored in the RAM\n",
    "    if save_arrays:\n",
    "        \n",
    "        def data_split(percentage):\n",
    "            \n",
    "            t_train, t_validation = train_test_split(T,test_size=percentage)\n",
    "            \n",
    "            X_train      = []\n",
    "            X_validation = []\n",
    "            Y_train      = []\n",
    "            Y_validation = []\n",
    "            total_X      = []\n",
    "            total_Y      = []\n",
    "            \n",
    "            for t,tt in enumerate(T):\n",
    "                for m,xx in enumerate(x):\n",
    "                    total_X.append([tt,xx])\n",
    "                    total_Y.append([U[t,m]])\n",
    "                    if tt in t_train:\n",
    "                        X_train.append([tt,xx])\n",
    "                        Y_train.append([U[t,m]])\n",
    "                    \n",
    "                    else:\n",
    "                        X_validation.append([tt,xx])\n",
    "                        Y_validation.append([U[t,m]])\n",
    "                    \n",
    "                    \n",
    "            return X_train, X_validation, Y_train, Y_validation,total_X,total_Y\n",
    "        \n",
    "        X_train,X_validation, Y_train, Y_validation,total_X,total_Y = data_split(0.2)\n",
    "        np.savez(f\"string_data/\" + filename + \".npz\",X=x,t=T,wave=U,coefs=A,noise=np.array(noise_level),\n",
    "                c=c,\n",
    "                v=v_fraction,\n",
    "                X_train = X_train,\n",
    "                X_validation=X_validation,\n",
    "                Y_train=Y_train,\n",
    "                Y_validation=Y_validation,\n",
    "                total_X     = total_X,\n",
    "                total_Y     = total_Y\n",
    "                )\n",
    "        \n",
    "    "
   ]
  },
  {
   "cell_type": "code",
   "execution_count": 17,
   "id": "c145fdcb",
   "metadata": {
    "ExecuteTime": {
     "end_time": "2022-05-25T12:09:11.828871Z",
     "start_time": "2022-05-25T12:08:32.411155Z"
    }
   },
   "outputs": [
    {
     "name": "stdout",
     "output_type": "stream",
     "text": [
      "Lenght of x is:201\n",
      "Lenght of t is:1000\n",
      "Filename is: c=1_v=0.3c_noise=0.0_modes=0.39_0.26_t_final=10_nr=1000\n",
      "Saving the GIF\n",
      "GIF saved\n"
     ]
    },
    {
     "data": {
      "image/png": "[encoded data removed]",
      "text/plain": [
       "<Figure size 1080x360 with 1 Axes>"
      ]
     },
     "metadata": {
      "needs_background": "light"
     },
     "output_type": "display_data"
    }
   ],
   "source": [
    "data_generation(c=1,v_fraction=0.3,modes=2,noise_level=0.0,save_GIF=True,save_arrays=True,scaled=False)"
   ]
  },
  {
   "cell_type": "code",
   "execution_count": 41,
   "id": "5de814a4",
   "metadata": {
    "ExecuteTime": {
     "end_time": "2022-05-16T13:39:20.256476Z",
     "start_time": "2022-05-16T13:39:20.215493Z"
    }
   },
   "outputs": [
    {
     "name": "stdout",
     "output_type": "stream",
     "text": [
      "1000\n",
      "201\n",
      "(201000, 2)\n",
      "(160800, 2)\n",
      "(40200, 2)\n"
     ]
    }
   ],
   "source": [
    "filename = \"c=1_v=0.3c_noise=0.0_modes=0.88_0.71_t_final=10_nr=1000\"\n",
    "data = np.load(f\"string_data/\" + filename + \".npz\")\n",
    "t = data[\"t\"]\n",
    "x = data[\"X\"]\n",
    "train = data[\"X_train\"]\n",
    "validation = data[\"X_validation\"]\n",
    "input_ = data[\"total_X\"]\n",
    "print(len(t))\n",
    "print(len(x))\n",
    "print(input_.shape)\n",
    "print(train.shape)\n",
    "print(validation.shape)"
   ]
  },
  {
   "cell_type": "code",
   "execution_count": null,
   "id": "1b1e5873",
   "metadata": {},
   "outputs": [],
   "source": [
    "def anim(self):\n",
    "        \n",
    "        def init():\n",
    "            for line in lines:\n",
    "                line.set_data([],[])\n",
    "            return lines\n",
    "\n",
    "        fig = plt.figure(figsize=(15,5))\n",
    "        ax = plt.axes(xlim=(0,1),ylim=(-3,3))\n",
    "        line, = ax.plot([], [], lw=3)\n",
    "        plt.xlim(0,1)\n",
    "        plt.ylim(-3,3)\n",
    "        plt.xlabel(\"X\")\n",
    "        plt.ylabel(\"Displacement\")\n",
    "        plt.title(f\"Prediction for epoch {self.current_epoch}\",fontsize=20)\n",
    "        lines = []\n",
    "        lobj1 = ax.plot([],[],lw=3,label=\"Predicted\")[0]\n",
    "        lobj2 = ax.plot([],[],lw=3,label=\"Real\")[0]\n",
    "        lines.append(lobj1)\n",
    "        lines.append(lobj2)\n",
    "        plt.legend()\n",
    "                \n",
    "        anim = FuncAnimation(fig,\n",
    "                    self.update_plot,\n",
    "                    init_func=init,\n",
    "                    frames=int(len(self.T)),\n",
    "                    fargs=(lines),\n",
    "                     blit=True,\n",
    "                    interval=100,\n",
    "                    repeat=True)\n",
    "        \n",
    "        plt.legend()\n",
    "        anim.save(f\"predictions/{self.filename}_epoch{self.current_epoch}_{now.minute}{now.second}\" + \".gif\",fps=30,writer=\"ffmpeg\")\n",
    "        plt.close()\n",
    "        self.logger.experiment[\"images/\"].log(File(f\"predictions/{self.filename}_epoch{self.current_epoch}_{now.minute}{now.second}\" + \".gif\"))\n",
    "    \n",
    "\n"
   ]
  },
  {
   "cell_type": "code",
   "execution_count": null,
   "id": "5a64a0bd",
   "metadata": {},
   "outputs": [],
   "source": [
    "def update_plot(self,i,line1,line2):\n",
    "\n",
    "    a = self.forward(self.total_X.to(self.device))[0].detach().cpu().numpy()\n",
    "    b   = a.reshape(self.T.shape[0],self.total_x.shape[0])\n",
    "    line1.set_data(self.total_x,b[i,:])\n",
    "    line2.set_data(self.total_x,self.U[i,:])\n",
    "    lines = (line1,line2)\n",
    "\n",
    "    return lines"
   ]
  }
 ],
 "metadata": {
  "kernelspec": {
   "display_name": "Python 3",
   "language": "python",
   "name": "python3"
  },
  "language_info": {
   "codemirror_mode": {
    "name": "ipython",
    "version": 3
   },
   "file_extension": ".py",
   "mimetype": "text/x-python",
   "name": "python",
   "nbconvert_exporter": "python",
   "pygments_lexer": "ipython3",
   "version": "3.9.6"
  },
  "latex_envs": {
   "LaTeX_envs_menu_present": true,
   "autoclose": false,
   "autocomplete": true,
   "bibliofile": "biblio.bib",
   "cite_by": "apalike",
   "current_citInitial": 1,
   "eqLabelWithNumbers": true,
   "eqNumInitial": 1,
   "hotkeys": {
    "equation": "Ctrl-E",
    "itemize": "Ctrl-I"
   },
   "labels_anchors": false,
   "latex_user_defs": false,
   "report_style_numbering": false,
   "user_envs_cfg": false
  },
  "toc": {
   "base_numbering": 1,
   "nav_menu": {},
   "number_sections": true,
   "sideBar": true,
   "skip_h1_title": false,
   "title_cell": "Table of Contents",
   "title_sidebar": "Contents",
   "toc_cell": false,
   "toc_position": {},
   "toc_section_display": true,
   "toc_window_display": false
  }
 },
 "nbformat": 4,
 "nbformat_minor": 5
}
