{
 "cells": [
  {
   "cell_type": "code",
   "execution_count": 3,
   "id": "fa75add7-db93-4da9-87c5-8e800377c884",
   "metadata": {},
   "outputs": [
    {
     "data": {
      "image/png": "[encoded data removed]",
      "text/plain": [
       "<Figure size 432x288 with 1 Axes>"
      ]
     },
     "metadata": {
      "needs_background": "light"
     },
     "output_type": "display_data"
    }
   ],
   "source": []
  },
  {
   "cell_type": "code",
   "execution_count": 10,
   "id": "9f9ef700-cb2a-4797-81d8-59d3147012f8",
   "metadata": {},
   "outputs": [
    {
     "name": "stdout",
     "output_type": "stream",
     "text": [
      "0.6367812032959759\n",
      "2.0136789735980036\n"
     ]
    }
   ],
   "source": [
    "print(np.sqrt(10/7.850/np.pi))\n",
    "print(np.sqrt(100/7.850/np.pi))"
   ]
  },
  {
   "cell_type": "code",
   "execution_count": 11,
   "id": "ab4e5c9e-8632-43b9-b899-86f92569e631",
   "metadata": {},
   "outputs": [
    {
     "name": "stdout",
     "output_type": "stream",
     "text": [
      "2.0136789735980036\n",
      "6.367812032959758\n"
     ]
    }
   ],
   "source": [
    "print(np.sqrt(10/0.7850/np.pi))\n",
    "print(np.sqrt(100/0.7850/np.pi))"
   ]
  },
  {
   "cell_type": "code",
   "execution_count": null,
   "id": "bd937975-ea5b-4259-9c72-dff574fb431e",
   "metadata": {},
   "outputs": [],
   "source": []
  }
 ],
 "metadata": {
  "kernelspec": {
   "display_name": "Python 3 (ipykernel)",
   "language": "python",
   "name": "python3"
  },
  "language_info": {
   "codemirror_mode": {
    "name": "ipython",
    "version": 3
   },
   "file_extension": ".py",
   "mimetype": "text/x-python",
   "name": "python",
   "nbconvert_exporter": "python",
   "pygments_lexer": "ipython3",
   "version": "3.8.12"
  }
 },
 "nbformat": 4,
 "nbformat_minor": 5
}
